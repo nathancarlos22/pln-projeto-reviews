{
 "cells": [
  {
   "cell_type": "code",
   "execution_count": 1,
   "metadata": {},
   "outputs": [
    {
     "name": "stderr",
     "output_type": "stream",
     "text": [
      "Using state ParaÃ­ba server backend.\n"
     ]
    }
   ],
   "source": [
    "import pandas as pd\n",
    "import requests\n",
    "import re\n",
    "import numpy as np\n",
    "import os\n",
    "import tensorflow as tf\n",
    "\n",
    "from bs4 import BeautifulSoup\n",
    "from math import ceil\n",
    "\n",
    "import translators.server as ts\n",
    "from langdetect import detect\n",
    "\n",
    "from sklearn.model_selection import train_test_split\n",
    "from sklearn.metrics import classification_report\n",
    "from keras.models import model_from_json\n",
    "\n",
    "import warnings\n",
    "from IPython.display import clear_output\n",
    "warnings.filterwarnings(\"ignore\")"
   ]
  },
  {
   "cell_type": "code",
   "execution_count": 2,
   "metadata": {},
   "outputs": [],
   "source": [
    "headers = {'User-Agent': 'Mozilla/5.0 (Windows NT 10.0; Win64; x64) AppleWebKit/537.36 (KHTML, like Gecko) Chrome/104.0.0.0 Safari/537.36', 'Accept-Language':'pt-BR,pt;q=0.9,en;q=0.8'}\n",
    "s = requests.Session()"
   ]
  },
  {
   "cell_type": "code",
   "execution_count": 3,
   "metadata": {},
   "outputs": [],
   "source": [
    "input = 'Samsung Galaxy A03s'\n",
    "text = input + ' amazon'\n",
    "url = \"https://www.google.com/search?q=\" + text\n",
    "\n",
    "request_result=s.get(url).content\n",
    "\n",
    "soup = BeautifulSoup(request_result,\"html.parser\")"
   ]
  },
  {
   "cell_type": "code",
   "execution_count": 4,
   "metadata": {},
   "outputs": [],
   "source": [
    "reviews = []\n",
    "produtos = []\n",
    "\n",
    "for a in soup.find_all('a', href=True):    \n",
    "    if 'amazon.com' in a['href'] and '/dp/' in a['href']:\n",
    "        href888 = a['href']\n",
    "        produtos.append(a.text)\n",
    "        new_url = href888.replace('/url?q=', '') # remove /url?q=\n",
    "        url_coments = new_url.split('&')[0].replace('/dp/', '/product-reviews/').replace('.br', '')\n",
    "        if '//'  in url_coments:\n",
    "            url_coments = url_coments.split('//')[1]\n",
    "        reviews.append('https://' + url_coments)"
   ]
  },
  {
   "cell_type": "code",
   "execution_count": 5,
   "metadata": {},
   "outputs": [
    {
     "name": "stdout",
     "output_type": "stream",
     "text": [
      "Analisando produto Smartphone Samsung Galaxy A03s 64GB Azul 6.513MP+2MP+2MP ...www.amazon.com.br › Smartphone-Samsung-Galaxy-A03s-64Gb\n",
      "86 total ratings, 9 with reviews\n",
      "Número de páginas: 1\n",
      "\n",
      "Analisando produto Smartphone Samsung Galaxy A03s, Selfie de 5MP, Tela de 6.5 ...www.amazon.com.br › Smartphone-Samsung-Galaxy-A03s-Preto\n",
      "516 total ratings, 65 with reviews\n",
      "Número de páginas: 7\n",
      "\n"
     ]
    }
   ],
   "source": [
    "coments = []\n",
    "cont=0\n",
    "for r in reviews:\n",
    "    \n",
    "    try:\n",
    "        html = s.get(r + f'/ref=cm_cr_dp_d_show_all_btm?ie=UTF8&reviewerType=all_reviews&pageNumber=1', headers=headers).content\n",
    "        soup = BeautifulSoup(html, 'html.parser')\n",
    "\n",
    "        a_soupi = soup.find_all('div', class_='a-row a-spacing-base a-size-base')\n",
    "        \n",
    "        if len(a_soupi) == 0: # se não encontrar a div, pula para o próximo produto\n",
    "            continue\n",
    "        print(f\"Analisando produto {produtos[cont]}\")\n",
    "        print(a_soupi[0].text.replace('\\n', '').replace('  ', ''))\n",
    "        i = int(a_soupi[0].text.replace('\\n', '').replace('  ', '').replace(',', '').split(' ')[3])/10 # pegando o numero de páginas\n",
    "        i = ceil(i)\n",
    "\n",
    "        print(f'Número de páginas: {i}')\n",
    "        \n",
    "        if i == 1: # se só tiver uma página roda o for só uma vez\n",
    "            i+=1\n",
    "\n",
    "        for j in range(1, i):\n",
    "            \n",
    "            html = s.get(r + f'/ref=cm_cr_dp_d_show_all_btm?ie=UTF8&reviewerType=all_reviews&pageNumber={j}', headers=headers).content\n",
    "            soup = BeautifulSoup(html, 'html.parser')\n",
    "            a_soup = soup.find_all('div', class_='a-row a-spacing-small review-data')\n",
    "            \n",
    "            for a in a_soup:\n",
    "                for coment in a.text.split('\\n'):\n",
    "                    if coment != '':\n",
    "                        coments.append(coment)\n",
    "    except Exception as e:\n",
    "        print(e)\n",
    "        continue\n",
    "\n",
    "    cont+=1\n",
    "    print()"
   ]
  },
  {
   "cell_type": "code",
   "execution_count": 6,
   "metadata": {},
   "outputs": [
    {
     "name": "stdout",
     "output_type": "stream",
     "text": [
      "65 de 69 comentários\n"
     ]
    }
   ],
   "source": [
    "coments_translate = []\n",
    "cont = 1\n",
    "\n",
    "# pelo fato de ter comentários de diferentes linguas, só iremos pegar os comentários em inglês\n",
    "for c in coments:\n",
    "    try:\n",
    "        det = detect(c)\n",
    "        if det != 'en' or 'The media could not be loaded.' in c:\n",
    "            continue\n",
    "        else:\n",
    "            coments_translate.append(c)\n",
    "    except:\n",
    "        continue\n",
    "\n",
    "print(f'{len(coments_translate)} de {len(coments)} comentários')"
   ]
  },
  {
   "cell_type": "markdown",
   "metadata": {},
   "source": [
    "## Testando modelo"
   ]
  },
  {
   "cell_type": "code",
   "execution_count": 19,
   "metadata": {},
   "outputs": [
    {
     "name": "stderr",
     "output_type": "stream",
     "text": [
      "[nltk_data] Downloading package stopwords to\n",
      "[nltk_data]     C:\\Users\\Pichau\\AppData\\Roaming\\nltk_data...\n",
      "[nltk_data]   Package stopwords is already up-to-date!\n"
     ]
    },
    {
     "name": "stdout",
     "output_type": "stream",
     "text": [
      "✔ Download and installation successful\n",
      "You can now load the package via spacy.load('en_core_web_sm')\n"
     ]
    }
   ],
   "source": [
    "import nltk\n",
    "import spacy.cli\n",
    "import en_core_web_sm\n",
    "from nltk.corpus import stopwords\n",
    "\n",
    "nltk.download('stopwords')\n",
    "stopwords_en = stopwords.words(\"english\")\n",
    "\n",
    "spacy.cli.download(\"en_core_web_sm\")\n",
    "spc_en = en_core_web_sm.load()"
   ]
  },
  {
   "cell_type": "code",
   "execution_count": 8,
   "metadata": {},
   "outputs": [],
   "source": [
    "def limpa_texto(texto):\n",
    "  '''(str) -> str\n",
    "  Essa funcao recebe uma string, deixa tudo em minusculo, filtra apenas letras,\n",
    "  retira stopwords, lemmatiza e retorna a string resultante.\n",
    "  '''\n",
    "  texto = texto.lower()\n",
    "\n",
    "  texto = re.sub(r\"[\\W\\d_]+\", \" \", texto)\n",
    "\n",
    "  texto = [pal for pal in texto.split() if pal not in stopwords_en]\n",
    "\n",
    "  spc_texto = spc_en(\" \".join(texto))\n",
    "  tokens = [word.lemma_ if word.lemma_ != \"-PRON-\" else word.lower_ for word in spc_texto]\n",
    "  \n",
    "  return \" \".join(tokens)"
   ]
  },
  {
   "cell_type": "code",
   "execution_count": 9,
   "metadata": {},
   "outputs": [],
   "source": [
    "try:\n",
    "    df_alexa = pd.read_csv('df_preprocessed.csv')\n",
    "    df_alexa.dropna(inplace=True)\n",
    "    \n",
    "except:\n",
    "    print('Dataset preprocessado nao encontrado, criando novo dataset...')\n",
    "    try:\n",
    "        df = pd.read_csv('Datafiniti_Amazon_Consumer_Reviews_of_Amazon_Products_May19.csv')\n",
    "\n",
    "        df_alexa = df.drop(['id','dateAdded', 'dateUpdated', 'asins', 'keys', 'manufacturer', 'manufacturerNumber', \n",
    "        'reviews.date', 'reviews.dateSeen', 'reviews.didPurchase', 'reviews.doRecommend', 'reviews.id',\n",
    "         'reviews.numHelpful', 'reviews.sourceURLs', 'reviews.username', 'imageURLs', 'primaryCategories', 'categories',\n",
    "         'brand', 'name', 'sourceURLs'], axis=1)\n",
    "\n",
    "        df_alexa.fillna('', inplace = True) # para nao ter problemas com nulos na concatenacao\n",
    "\n",
    "        # concatenando as duas colunas\n",
    "        df_alexa['verified_reviews'] = df_alexa['reviews.text'] + ' ' + df_alexa['reviews.title']\n",
    "        # removendo entradas sem texto\n",
    "        df_alexa = df_alexa[df_alexa['verified_reviews'] != ' ']\n",
    "\n",
    "\n",
    "        # transformando rating em feedback 0 e 1\n",
    "        labels = []\n",
    "        for score in df_alexa['reviews.rating']:\n",
    "            if score > 3:\n",
    "                labels.append(1)\n",
    "            else:\n",
    "                labels.append(0)\n",
    "\n",
    "        df_alexa['feedback'] = labels\n",
    "        # Aplica a funcao nas reviews do dataset\n",
    "        df_alexa['verified_reviews'] = df_alexa['verified_reviews'].apply(limpa_texto)\n",
    "\n",
    "        # Salva o dataset preprocessado\n",
    "        \n",
    "        df_alexa.to_csv('df_preprocessed.csv', index=False)\n",
    "    except Exception as e:\n",
    "        print(e)\n",
    "        print('Dataset nao encontrado, baixe o dataset e coloque na mesma pasta do codigo')\n",
    "        exit()\n",
    "        "
   ]
  },
  {
   "cell_type": "markdown",
   "metadata": {},
   "source": [
    "## Vectorizer"
   ]
  },
  {
   "cell_type": "code",
   "execution_count": 10,
   "metadata": {},
   "outputs": [],
   "source": [
    "from sklearn.feature_extraction.text import TfidfVectorizer"
   ]
  },
  {
   "cell_type": "code",
   "execution_count": 11,
   "metadata": {},
   "outputs": [
    {
     "data": {
      "text/plain": [
       "1    25543\n",
       "0     2786\n",
       "Name: feedback, dtype: int64"
      ]
     },
     "execution_count": 11,
     "metadata": {},
     "output_type": "execute_result"
    }
   ],
   "source": [
    "df_alexa['feedback'].value_counts()"
   ]
  },
  {
   "cell_type": "code",
   "execution_count": 12,
   "metadata": {},
   "outputs": [],
   "source": [
    "texto = df_alexa['verified_reviews']\n",
    "# Importando o TfidfVectorizer\n",
    "\n",
    "# Instanciando o TfidfVectorizer\n",
    "tfidf_vect = TfidfVectorizer()\n",
    "\n",
    "# Vetorizando\n",
    "X_tfidf = tfidf_vect.fit_transform(texto)"
   ]
  },
  {
   "cell_type": "code",
   "execution_count": null,
   "metadata": {},
   "outputs": [],
   "source": [
    "print(X_tfidf)"
   ]
  },
  {
   "cell_type": "markdown",
   "metadata": {},
   "source": [
    "## Modelo"
   ]
  },
  {
   "cell_type": "code",
   "execution_count": 13,
   "metadata": {},
   "outputs": [],
   "source": [
    "X_train, X_test, y_train, y_test = train_test_split(X_tfidf.toarray(), df_alexa['feedback'], test_size = 0.2)"
   ]
  },
  {
   "cell_type": "code",
   "execution_count": 14,
   "metadata": {},
   "outputs": [
    {
     "name": "stdout",
     "output_type": "stream",
     "text": [
      "Loaded model from disk\n"
     ]
    }
   ],
   "source": [
    "try:\n",
    "    # load json and create model\n",
    "    json_file = open('model.json', 'r')\n",
    "    loaded_model_json = json_file.read()\n",
    "    json_file.close()\n",
    "    classifier = model_from_json(loaded_model_json)\n",
    "    # load weights into new model\n",
    "    classifier.load_weights(\"model.h5\")\n",
    "    print(\"Loaded model from disk\")\n",
    "\n",
    "    # evaluate loaded model on test data\n",
    "    classifier.compile(optimizer='Adam', loss='binary_crossentropy', metrics = ['accuracy'])\n",
    "except:\n",
    "    # create model and save\n",
    "    classifier = tf.keras.models.Sequential()\n",
    "    classifier.add(tf.keras.layers.Dense(units = 10, activation='relu', input_shape=(X_train.shape[1],)))\n",
    "    classifier.add(tf.keras.layers.Dense(units = 10, activation='relu'))\n",
    "    classifier.add(tf.keras.layers.Dense(units = 1, activation='sigmoid'))\n",
    "\n",
    "    classifier.compile(optimizer='Adam', loss='binary_crossentropy', metrics = ['accuracy'])\n",
    "\n",
    "    # fit model\n",
    "    epochs_hist = classifier.fit(X_train, y_train, epochs=100, batch_size=50,  verbose=2, validation_split=0.2)\n",
    "\n",
    "\n",
    "    # serialize model to JSON\n",
    "    model_json = classifier.to_json()\n",
    "    with open(\"model.json\", \"w\") as json_file:\n",
    "        json_file.write(model_json)\n",
    "    # serialize weights to HDF5\n",
    "    classifier.save_weights(\"model.h5\")\n",
    "    print(\"Saved model to disk\")"
   ]
  },
  {
   "cell_type": "code",
   "execution_count": 15,
   "metadata": {},
   "outputs": [
    {
     "name": "stdout",
     "output_type": "stream",
     "text": [
      "178/178 [==============================] - 1s 2ms/step\n",
      "              precision    recall  f1-score   support\n",
      "\n",
      "           0       0.90      0.91      0.91       559\n",
      "           1       0.99      0.99      0.99      5107\n",
      "\n",
      "    accuracy                           0.98      5666\n",
      "   macro avg       0.95      0.95      0.95      5666\n",
      "weighted avg       0.98      0.98      0.98      5666\n",
      "\n"
     ]
    }
   ],
   "source": [
    "# classification_report\n",
    "y_pred_test = (classifier.predict(X_test) > 0.5).astype(int)\n",
    "print(classification_report(y_test,y_pred_test))"
   ]
  },
  {
   "cell_type": "code",
   "execution_count": 16,
   "metadata": {},
   "outputs": [
    {
     "name": "stdout",
     "output_type": "stream",
     "text": [
      "3/3 [==============================] - 0s 2ms/step\n",
      "Positivos: 46 | Negativos: 19\n",
      "\n",
      " Comentarios negativos: \n",
      "\n",
      "Não compre.Não é 4g.Apenas LTE.Não é compatível agora com a nova rede ATT ou T-Mobil \n",
      "\n",
      "Câmera, não muito boa.A vida útil da bateria, boa. \n",
      "\n",
      "Uma atualização absoluta para o meu último telefone orçamentário, um LGK10, mas ainda não tão \"ágil\" quanto eu esperava.Funciona bem e é um bom valor para o preço.A duração da bateria é uma grande vantagem. \n",
      "\n",
      "Fiquei tão empolgado em obter este telefone com base nas críticas e na minha própria pesquisa.Eu esperei cerca de meio ano agora e até minha empresa de telefone celular está me dizendo para me livrar deste telefone.As chamadas caem e muitas vezes não posso fazer ligações porque estou fora de alcance, o que quer que isso signifique - nunca aconteceu com telefones mais baratos!A única maneira de sair disso é desligá -lo e ligar novamente.Eu tive que entrar em contato com minha empresa de telefonia celular três vezes agora para redefinir o telefone, o que me envolve remover o cartão SIM e desligá -lo enquanto eles fazem isso do fim.Quando perguntei como evitar fazer isso, eles disseram comprar um novo telefone.Quão decepcionante !!!Eu não recomendaria este telefone por esse motivo, por não fazer chamadas (veja acima), por não ser alto o suficiente para corredes de voz, por dizer que meus contatos para ligar não existem quando o fizerem, para que não façam chamadas -eles mostram edesligar.É tão frustrante.Não recebi seguro, então estou ferrado e preciso manter o telefone, mas é muito frustrante!Não recomendaria. \n",
      "\n",
      "Usando com o Mint Mobile, funcionando muito bem, bem satisfeito \n",
      "\n",
      "Meu pixel 4xl morreu e eu só preciso de um telefone para me levar alguns meses até que o Pixel 7 seja lançado.Então eu peguei este telefone porque era Cheep, trabalhei em todas as redes, e eu poderia transmiti -lo ao meu filho quando terminei.Achei que funcionaria como um substituto para um telefone de quase três anos ... bem, não estou impressionado.O telefone está lento em tudo.Desde a navegação na Web até os aplicativos de lançamento e tiros de fotos .... e a interface Samsung Android é sub-par em comparação com o pixel. \n",
      "\n",
      "Telefone muito completo pelo preço \n",
      "\n",
      "Ótima bateria, câmeras incríveis, muito rápidas \n",
      "\n",
      "Não é compatível com todas as redes.Não funciona com a Verizon ou o Xfinity Mobile (usa a rede Verizon) \n",
      "\n",
      "Este telefone está bem.Meio lento às vezes.Não experimentei bugs ou falhas ou reinicializações.A duração da bateria é muito boa.Pelo preço, ninguém deve reclamar. \n",
      "\n",
      "Eu amo todos os produtos Samsung \n",
      "\n",
      "O número IMEI no telefone não é válido.As empresas telefônicas não aceitarão um IMEI inválido para que o telefone seja mais ou menos inútil.Pelo menos no meu caso, comprar este telefone foi uma farsa e eu tive que devolvê -lo. \n",
      "\n",
      "A câmera da frente é horrível, mas o telefone é bom \n",
      "\n",
      "Ótimo telefone por um ótimo preço! \n",
      "\n",
      "Eu quero um reembolso.O telefone leva mais de 3 horas para cobrar quando decide cobrar. \n",
      "\n",
      "A Samsung costumava ser a marca superior da marca para todas as coisas eletrônicas e eletrônicas também, mas ultimamente tive que devolver os produtos Samsung porque o valor simplesmente não está mais lá.Este telefone mais recente tinha uma resolução de tela ruim com uma tela de toque sem resposta (o toque tinha que estar certo no Cypher ou nada aconteceria).O cypher telefônico (o mais importante na tela) pode ser 'tocado' repetidamente sem acionar a bruxa do telefone resultou em telefonemas perdidos e nenhum serviço de saída (estava enlouquecendo).Este telefone era apenas um peso caro de papel;Não perca seu tempo ou dinheiro com isso. \n",
      "\n",
      "O telefone veio com um cabo de carregamento, mas não o plugue de energia, quando eu conecto o cabo do telefone à porta USB do laptop, o telefone exibe uma mensagem de que o \"carregador não é compatível\" e até a data não podemos ser carregados acima de 40% e a cobrança cai em um dia, mesmo o telefone não utilizado. \n",
      "\n",
      "Não foi capaz de ser cobrado.Nem sequer ligaria.Nunca mais compraria \n",
      "\n",
      "Não recomendado \n",
      "\n"
     ]
    }
   ],
   "source": [
    "\n",
    "if len(coments_translate) == 0:\n",
    "    print('Nenhum comentário para ser classificado')\n",
    "else:\n",
    "    c = tfidf_vect.transform(coments_translate).toarray()\n",
    "    predict = (classifier.predict(c) > 0.5).astype(int)\n",
    "\n",
    "    cont_pos = 0\n",
    "    cont_neg = 0\n",
    "    for p in predict:\n",
    "        if p == 1:\n",
    "            cont_pos += 1\n",
    "        else:\n",
    "            cont_neg += 1\n",
    "\n",
    "    print(f'Positivos: {cont_pos} | Negativos: {cont_neg}')\n",
    "\n",
    "    indexes_neg = np.where(predict == 0)[0] # obtendo indexes dos comentarios negativos\n",
    "\n",
    "    if len(indexes_neg) == 0:\n",
    "        print('Nenhum comentario negativo encontrado')\n",
    "    else:\n",
    "        print(\"\\n Comentarios negativos: \\n\")\n",
    "        for i in indexes_neg:\n",
    "            print(ts.google(coments_translate[i], to_language='pt'), '\\n')\n",
    "            # print(coments_translate[i], '\\n')"
   ]
  },
  {
   "cell_type": "code",
   "execution_count": 52,
   "metadata": {},
   "outputs": [
    {
     "name": "stdout",
     "output_type": "stream",
     "text": [
      "['perfect age great phone', 'slow bad fingerprint recognition next phone inconvenient app work properly real g today jan also work', 'excellent product thank work perfectly', 'buy g lte compatible new att mobil network', 'do not work describe att cricket wireless network', 'wife purchase ao g last week ready throw window need reliable phone job connect network area fast enough min later give phone negative even bother look bad phone ever', 'processor lag alot app internet screen really dim feel like kindle battery good increase brightness drain fast heavy expect network work att tmobile mintoverall price would pay alittle get processor speed screen view try ds gb enjoy price write review', 'face recognition finger print reader battery life great camera photo lovely phone work well please', 'like phone lot lot thing way different old android phone matter get use function hard find might give star except one thing come charge block never buy phone come one pay lot phone see site probably unlock still include something basic highly disappointing borrow cord someone else get one order thank lord one otherwise able use second thing comment long battery life false run old phone', 'people hear unless put speaker iifeel like commercial hear battery charge take long probably would buy say battery disipointe', 'work good mine son love early christmas gift', 'phone large screen great battery life great call text phone pretty slow game quick online surfing screen refresh slow', 'great design large expect great work well overall front camera quality poor though back camera bad dual sim one sim slot seem issue work', 'camera good battery life good', 'always carry two cell phone like droid maxx well price point', 'expect galaxy phone great face recognition spot fingerprint recognition perfect phone week let yet fast responsive give spec phone consider low low samsung use phone mainly call text facebook type app web browse etc satisfied even instal game like candy crush work flawlessly battery life outstanding go full day use phone like crazy screen crank brightest set still power screen resolution look fine honestly unless sit next super high end phone never see anything subpar highly recommend phone want save money still something decent realize budget phone expect something get range samsung another nice quality phone con would one camera quality low end big picture taker issue second samsung give charger still give phone budget category homework know get', 'receive without sym card', 'want surf net watch tube read email take average pic phone perfect', 'absolute upgrade last budget phone lgk still snappy hope function fine good value price battery life huge plus', 'state dual sim lie get phone specifically one entirely live japan need temporary phone last get back we receive call text we phone number jp phone number keep half type speed type laborious painful camera grainy trash ruin lot picture get really suck since japan travel got lose multiple time figure direction face google maps mention finger print scanner side phone try scan time part sometimes metal touch lead often lock slowly input pin even search functionality horribly slow nothing else run still take several second load search engine keyboard allow start typing know would bad smart phone ever own dual sim suppose make worth know even detect second sim slot would gotten well phone cheap tl dr non function second sim slot garbage every category include type buy', 'samsung smartswitch make easy transfer datum old phone battery last day screen bright clear buy another wife phone die', 'screenshot feature challenge capture since turn push two button perfectly screen color look fade like pastel color actual color see eye iphone camera dual sim tray allow use one sim instead two point dual sim tray since phone capable also feature user friendly alarm come phone turn immediately press x button shut', 'god try anything phone beyond frustrating app take second tap app open everything slow fingerprint scanner completely non functional plus phone absolutely splash water proofing make complete waste recently call ambulance phone let every turn well run ask stranger use', 'excited get phone base review research wait half year even cell phone company tell get rid phone call drop often make call range whatever mean never happen cheap phone way turn contact cell phone company three time reset phone involve remove sim card turn end ask avoid say buy new phone disappointing would recommend phone reason make call see loud enough voicemail say contact call exist call go dial hang frustrating get insurance screw need keep phone sooo frustrating would recommend', 'thing run slow dial return slow frustrating try even use prefer flip phone thing say lot glue device', 'use mint mobile work great well pleased', 'phone quick easy use well connectivity early samsung', 'phone basic look feel top quality much well pixel recommend wirecutter amazon recommendation argue bonus excellent camera improvement zoom call', 'pixel xl die need phone get month untill pixel release pick phone cheep work network could pass son do figure would work replacement almost three year old phone well impress phone sluggish everything browse web launch app take photo samsung android interface sub par compare pixel', 'order phone need new one everything came expect good deal happy purchase would recommend', 'buy teenage son love phone long battery life excellent color large screen run fast overall happy purchase', 'purchase samsung mobile phone june request return phone phone start switch screen set screen top start drop change screen would freeze would power tell would refunded problem charge restocking fee due day window also return phone case purchase day window charge restocking fee item phone however circumstance beyond control penalize electronic item bought sell amazon amazon prime customer decade day return policy apply decide want item mobile phone primary phone cost time money mention treat rudely one customer service rep soon receive refund do amazon never receive one red cent buyer beware', 'complete phone price', 'happy', 'great battery pretty quick awesome camera', 'compatible network work verizon xfinity mobile use verizon network', 'buy hubby love keep gong snit battery need charge day', 'phone fine kind slow sometimes experience bug crash restart battery life pretty good price one complain', 'phone sell new come charger type c cable box empty space documentation none product clearly tamper tis brand new product advertize', 'buy phone old one stop work feature miss usable care g technology lte sufficient thing miss middle button bottom screen status lead otherwise happy price phone good', 'buy step kid love thank', 'great phone pricing', 'love samsung product', 'imei number phone valid phone company accept invalid imei phone less useless least case buy phone scam return', 'item gsm technology state description item open carrier state amazon description amazon link report misinformation function samsung galaxy aos manufacturers link service amazon chat line respond wish go cell phone store order misrepresented cell phone online sometimes brick mortar store superior amazon lack concern help', 'front camera horrable phone good', 'buy son replace old phone phone come pin assist remove sim card ok deal breaker one however phone wall adapter fit phone charger hip new connector phone blue tooth device use one two different style idea call nothing fit computer course son unable charge new phone research find need sunday morning drive mile round trip wall mart sunday hope need walmart joy joy', 'great phone great price', 'fall break', 'screen battery life fine phone slow also freeze buy', 'page list country origin vietnam phone arrive say make china', 'want refund phone take hour charge decide charge', 'screen responsive thought app delay activate', 'samsung use top pf mark thing electronic home appliance lately return samsung product value anymore late phone poor screen resolution unresponsive touch screen touch right cypher nothing would happen phone cypher important one screen could touch without trigger phone witch result miss phone call outgoing service madden phone expensive paper weight waste time money', 'phone come charge cable power plug connect phone cable laptop usb port phone display message charger compatible till date get charge charge drop within day even phone unused', 'boost mobile provider give phone srvice', 'sim card find one tell would work area return problem', 'never buy phone include charger since phone use normal usb plug none charger fit suppose buy yet another charger case cost almost price phone return reason alone slimy', 'samsung confirm phone work dual sim amazon update content make fake sale cheat customer', 'battery phone last hour max without even use', 'able charge would not even turn would never buy', 'recommend', 'new stupider way old thing take screenshot absurd need contortionist sitting desk never take screen shot fly car stand around old power cord work straight usb outlet never charge way plug charge phone come plug dispense back button interface torture swipe gesture leave go back work fifty try home button use home button android need take screenshot', 'use wifi restart device whenever gets disconnect also lose cellular connection use wire head phone build jack sound like instal water damage', 'order phone google fi instruction say fully charge activating except come charger come usb c usb c cable good luck find device house usb c port usb hub desktop dell laptop samsung website description phone indicate come charger state charger purchase phone review android advisor say w phone samsung web store sell w charger review android advisor chargers lot negative comment replace charger amazon sell one review version waste night try figure activate phone find charger finally decide factory restore phone return get motorola phone include charger samsung claim include charger environmental reason old phone charger throw away spare charger go another room laptop bag put drawer case new one gets misplace damage lesson learn verify new phone come charger buying otherwise buy']\n"
     ]
    }
   ],
   "source": [
    "text = []\n",
    "for t in coments_translate:\n",
    "    texto = limpa_texto(t)\n",
    "        \n",
    "    text.append(texto)\n",
    "print(text)"
   ]
  },
  {
   "cell_type": "code",
   "execution_count": 71,
   "metadata": {},
   "outputs": [],
   "source": [
    "word2count = {}\n",
    "for data in text:\n",
    "    words = nltk.word_tokenize(data)\n",
    "    for word in words:\n",
    "        if word not in word2count.keys():\n",
    "            word2count[word] = 1\n",
    "        else:\n",
    "            word2count[word] += 1\n",
    "            \n",
    "soma_freq =  (sum(word2count.values()))"
   ]
  },
  {
   "cell_type": "code",
   "execution_count": 72,
   "metadata": {},
   "outputs": [],
   "source": [
    "for keys, values in word2count.items():\n",
    "    word2count[keys] = values/soma_freq"
   ]
  },
  {
   "cell_type": "code",
   "execution_count": 54,
   "metadata": {},
   "outputs": [
    {
     "name": "stdout",
     "output_type": "stream",
     "text": [
      "['phone', 'work', 'screen', 'one', 'charger', 'buy', 'use', 'battery', 'would', 'charge', 'samsung', 'get', 'sim', 'great', 'call', 'come', 'new', 'need', 'good', 'camera', 'amazon', 'slow', 'even', 'price', 'life', 'well', 'old', 'take', 'return', 'like', 'thing', 'never', 'app', 'network', 'say', 'day', 'make', 'usb', 'purchase', 'give', 'try', 'lot', 'still', 'second', 'dual', 'recommend', 'turn', 'button', 'also', 'product']\n"
     ]
    }
   ],
   "source": [
    "import heapq\n",
    "\n",
    "# ordena a lista para saber qual é a palavra que mais se repete\n",
    "freq_words = heapq.nlargest(50,word2count, key=word2count.get)\n",
    "print (freq_words)"
   ]
  },
  {
   "cell_type": "code",
   "execution_count": 17,
   "metadata": {},
   "outputs": [
    {
     "data": {
      "text/plain": [
       "['Perfect for All ages! Great phone!!',\n",
       " 'Slow, bad fingerprint recognition, next to the phone it is inconvenient and on some apps it does not work properly.it is not a real 4G but as of today (JAN 2022) it also works with AT&T',\n",
       " 'Excellent product, thank you. it works perfectly',\n",
       " 'Do not buy it. It is NOT 4g. Just LTE. Not compatible now with new ATT or T-mobil network',\n",
       " 'Doesnt work as described with the ATT, Cricket wireless networks.',\n",
       " \"My wife purchased the AO3 4g last week. She is ready to throw it out the window. She needs a reliable phone for her job and this is not it. Does not connect with any networks in the area fast enough. When it does it's 20 min later. I give this phone a negative 20. Don't even bother looking at it. The worst phone ever\",\n",
       " \"1. Processor: Lags alot on apps and internet2. Screen is really dim, Feels like my kindle3. Battery is good but if I have to increase brightness, it does drain it faster4. Heavier than expected5. Network: works on ATT, Tmobile, MintOverall, for the price I would pay alittle more to get processor speed and screen view.  Try A32 DS with 6GB you'll enjoy the price. I wrote a review for it.\",\n",
       " 'Has face recognition, finger print reader, battery life is great, camera photos are lovely and phone works well. I am very pleased.',\n",
       " \"I like the phone a lot.  There are a lot of things that are way different than my old Android phone, but that's just a matter of getting used to it.  Some functions on it are hard to find.  I might have given this 5 stars except for one thing.  It doesn't come with a charging block.  I've never bought a phone that didn't come with one.  You pay a lot more for this phone than I saw on other sites, but that's probably because it's unlocked, but still.....to not include something so basic is highly disappointing.  I had to borrow a cord from someone else until I get the one I had to order.  Thank the Lord she had one.  Otherwise I wouldn't have been able to use it.  The second thing is that all the comments about long battery life are false.  Runs out about the same as my old phone.\",\n",
       " \"people can't hear you unless you put it on speaker. iIfeel like that commercial Can you Hear  me now  , battery charging take to long  . I probably would not buy it again . They said battery was 80% NOT . VERY DISIPOINTED\",\n",
       " 'WORK GOOD AND MINE SON LOVE IT WAS A  EARLY CHRISTMAS 🤶 GIFT FOR HIM',\n",
       " 'This phone has a large screen and great battery life and its great if you only call and text only. The phone is pretty slow for games or quick online surfing- screen refresh is slow.',\n",
       " \"It's a great design. Larger than I had expected which is great. Works well overall.....front camera quality poor though. Back camera not as bad. It is a dual sim....but one Sim slot seems to have an issue and does not work at all.\",\n",
       " 'Camera, not very good. Battery life, good.',\n",
       " 'I always carry two cell phones. I like my (Droid MAXX2) better at about the same price point.',\n",
       " \"For those not expecting a Galaxy S22, this phone is great.  Face recognition is spot on. Fingerprint recognition is perfect. I've had the phone a few weeks now and it hasn't let me down yet. Very fast and very responsive given that the specs on this phone are considered the low of the low from Samsung.If you use your phone mainly for calls, texts, Facebook type apps, some web browsing, etc., you will be satisfied. I've even installed some games like Candy Crush and they work flawlessly.Battery life is outstanding. I went 2 full days using this phone like crazy, screen cranked up to the brightest setting and it was still at 54% power.The screen resolution looks fine to me. Honestly, unless you're sitting it next to some super high end phone, you will never see anything subpar about it.I highly recommend this phone to those who want to save some money and still have something decent.Again, realize this is a budget phone and don't expect something you'd get in the $1000 range.  Samsung does it again with another nice quality phone.The only cons would be, one - the camera quality is on the lower end.  I'm not a big picture taker so that isn't an issue for me. The second, Samsung doesn't give you a charger.I'd still give this phone a 5/5 in the budget category.Do your homework and know what you're getting.\",\n",
       " 'Received without a sym card?!!!!!!!!?',\n",
       " 'If you just want to surf the net, watch you tube, read emails and take average pics. This phone is perfect.',\n",
       " 'An absolute upgrade to my last budget phone, an LGk10, but still not as \"snappy\" as I had hoped.  Functions fine and is a good value for the price.  Battery life is a huge plus.',\n",
       " \"As stated, dual SIM was a lie. I got this phone - specifically this one - entirely because I was living in Japan, I needed a temporary phone just to last me until I got back to the US, and I was receiving calls and texts to both my US phone number and my JP phone number. It couldn't keep up with half my typing speed so any and all typing was laborious and painful, the camera was grainy trash that ruined a lot of the pictures I got (which really sucks since I was in Japan and I don't travel), and it got me lost multiple times because it couldn't figure out where I was or what direction I was facing in Google Maps. Not to mention the finger print scanner being on the side of the phone and trying to scan any time any part of me or sometimes metal touched it, leading to me often being locked out and having to slowly input my pin. Even search functionality was horribly slow. If nothing else was running, it still took several seconds to load up the search engine and keyboard and allow me to start typing. I knew this would be the worst smart phone I'd ever owned, but the dual SIM was supposed to make it worth it. If I'd known it wouldn't even detect its second SIM slot, I would've gotten a better phone for cheaper.TL;DR: Non-functioning second SIM slot, garbage in every other category including typing. Do not buy.\",\n",
       " 'Samsung SmartSwitch makes it easy to transfer data from the old phone.  Battery lasts me 2 days.  Screen is bright and clear.  Will buy another for my wife if her phone dies.',\n",
       " 'Its screenshot feature is challenging to capture since it turns off if you are not pushing the two buttons perfectly.  The screen color looks fading (like pastel color) than actual color seen in eyes, or iPhone camera. It has dual SIM trays, but it only allows you use one SIM instead of two, so what is the point of having it dual SIM tray since the phone is not capable? Also, some of the feature is not user friendly.  The alarm which comes with this phone does not turn off immediately after pressing X button to shut it off.',\n",
       " 'My god trying to do anything on this phone is beyond frustrating, apps take up to 30 seconds between me tapping it and the app opening. Everything is so slow and the fingerprint scanner is completely non-functional. That plus this phone having absolutely no splash or water proofing makes it a complete waste. I recently had to call 911 for an ambulance and this phone let me down at every turn. Better off running and asking strangers to use theirs',\n",
       " \"I was so excited to get this phone based on the reviews and my own research. I've waited about half a year now and even my cell phone company is telling me to get rid of this phone. Calls drop and often I can't make calls because I am out of range, whatever that means - never happened with cheaper phones! The only way out of that is to turn it off and on again. I've had to contact my cell phone company three times now to reset the phone, which involves me removing the sim card, and turning it off while they do that from their end. When I asked how to avoid doing this, they said buy a new phone. How disappointing!!! I would not recommend this phone for that reason, for not making calls (see above), for not being loud enough for voicemails, for saying that my contacts to call do not exist when they do, for calls not going through -they dial and hang up. It's SO frustrating. I didn't get insurance, so, I am screwed and need to keep the phone, but it's sooo frustrating! Would not recommend.\",\n",
       " \"This thing runs slower than dial-up. Had to return it because it was so slow that it was frustrating to try to even use. I'd prefer a flip phone over this thing. Which says a lot because I'm glued to my devices.\",\n",
       " 'using with mint mobile, working great, well pleased',\n",
       " 'This phone is quicker, easier to use and has better connectivity than my earlier Samsung.',\n",
       " \"This phone has all the basics with the look and feel of top quality. It's so much better than my Pixel. It was recommended by Wirecutter and is an Amazon recommendation. Who am I to argue. Bonus: Excellent camera, an improvement for Zoom calls.\",\n",
       " \"My Pixel 4XL died and I just need a phone to get me through a few months untill the Pixel 7 is released. So I picked up this phone because it was cheep, worked on all the networks, and I could pass it on to my son when I was done with it. I figured it would work as a replacement for an almost three years old phone.....Well, I'm not impressed. The phone is sluggish at everything. From browsing the web to launching apps to taking photos....And the Samsung Android interface is sub-par compared to the Pixel.\",\n",
       " 'Ordered this phone because I needed a new one. Everything came as expected and it was a good deal. I am very happy with this purchase and would recommend',\n",
       " 'Bought this for my teenage son! He loves the phone -- long battery life, excellent colors, large screen, runs fast! Overall happy with purchase!',\n",
       " \"I purchased a Samsung A03s mobile phone in June. I requested to return the phone because the phone started switching screens, the setting screen at the top started dropping down while I'm changing screens, and it would freeze up, where I would have to power it off and on. I was told I would be refunded. The problem is I'm being charged a restocking fee due to the 30 day window. I also returned the 2 phone cases I purchased after the 30 day window. I was not charged a restocking fee for those items. The phone however, was circumstances beyond my control so I should not have been penalized for a electronic item that was bought and sold from Amazon. I've been an Amazon Prime Customer for over a decade. The 30 day return policy should only apply if you decide you don't want the item. My mobile phone is my primary phone. It cost me time and money: not to mention being treated rudely by one of the customer service reps. As soon as I receive my refund I'M DONE. AMAZON WILL NEVER RECEIVE ONE RED CENT FROM ME.BUYERS BEWARE\",\n",
       " 'Very complete phone for the price',\n",
       " 'Very happy',\n",
       " 'Great battery, pretty quick, awesome cameras',\n",
       " 'Not compatible with all networks. Does not work with Verizon or xfinity mobile (uses Verizon network)',\n",
       " 'I bought this for my hubby. He loves it. He kept gong on and on snit the battery not needing charge for 3 days.',\n",
       " 'This phone is fine.  Kind of slow sometimes. I have not experienced any bugs or crashes or restarts. Battery life is pretty good.  For the price, no one should complain.',\n",
       " \"The phone is sold as new, but it doesn't come with a charger or the Type-C cable. The box has empty space where the documentation should be, but there is none. The product has clearly been tampered with. Tis is not a brand new product as advertized.\",\n",
       " \"Bought this phone when my old one stopped working, a few features missing but very usable. I don't care about 5g technology LTE is sufficient, only things I miss are the middle button at bottom of screen and status LED. Otherwise, I'm very happy with price and phone is good.\",\n",
       " 'I bought it for my step kid who is 13 and he loves it. Thank you',\n",
       " 'great phone for the pricing.',\n",
       " 'I love all samsung products',\n",
       " 'The IMEI number on the phone is not valid. Phone companies will not accept an invalid IMEI so the phone is more or less useless. At least in my case buying this phone was a scam and I had to return it.',\n",
       " 'This item is NOT GSM technology as stated in the description This item is NOT open to all carriers as stated on the Amazon description. The Amazon \"link\" to Report Misinformation is not functioning. The Samsung Galaxy AOS3 manufacturers link is out of service. The Amazon chat line will not respond to me.I wish I had gone to a cell phone store and not ordered this misrepresented cell phone online. Sometimes Brick and Mortar stores are superior to Amazon and its lack of concern and help.',\n",
       " 'The front camera is horrable but phone is good',\n",
       " \"Bought this for my son to replace his old phone.  Phone did not come with pin to assist with removing sim card.  OK, not a deal breaker,  I had one.  However phone does not have a wall adapter to fit phone charger.  I'm not hip to all the new connectors,  I have phones and blue tooth devices that use one of two different styles...no idea what they are called.  Nothing I have fits, nor the computer of course.  Son is unable to charge his new phone.  I now have to do research to find out what we need and then Sunday morning drive the 30 mile round trip to Wall Mart on a Sunday and hope they have what we need.  Walmart....Joy of Joys.\",\n",
       " 'Great phone for a great price!',\n",
       " 'It fell and broke',\n",
       " \"The screen and the battery life are fine but this is a phone that is very slow. Also freezes up. Don't buy it.\",\n",
       " 'This page lists the Country of Origin as Vietnam, but when the phone arrived it said Made in China.',\n",
       " 'I want a refund. The phone takes over 3 hours to charge when it decides to charge.',\n",
       " 'screen wasn’t as responsive as I thought it will be and apps were delaying when activating',\n",
       " \"Samsung used to be the top pf the mark for all things electronic and home appliances too but lately I have had to return Samsung products because the value is just not there anymore. This latest phone had a poor screen resolution with a unresponsive touch screen (touch had to be right on the cypher or nothing would happen). The PHONE cypher (the most important one on the screen) could be 'touched' over and over again without triggering the phone witch resulted in missed phone calls and no outgoing service (it was maddening). This phone was just an expensive paper weight; don't waste your time or money on it.\",\n",
       " 'The phone has come with a charging cable but not the power plug, when I connect the phone cable to Laptop USB port, the phone display a message that the \"charger is not compatible\" and till date we can\\'t get charged to above 40% and the charge drops within a day even the phone in unused.',\n",
       " 'MY BOOST MOBILE provider can not give this phone srvice',\n",
       " \"No sim card. Couldn't find one.After being told it would work in my area it did NOT!But I did return it no problem...\",\n",
       " \"I've NEVER bought a phone that didn't include a charger, and since this phone doesn't use a normal USB plug,  none of my other chargers will fit. So I'm supposed to buy yet ANOTHER charger which in this case costs almost 10% of the price of the phone itself. I'm returning it for that reason alone. Slimy.\",\n",
       " 'Samsung confirmed this phone will not work for dual sim and amazon is not updating the content and making fake sales and cheating customers.',\n",
       " 'Battery on this phone only last 3 hours max, that’s without even using it.',\n",
       " 'It was not able to be charged at all.  It wouldnt even turn on.  Would never buy again',\n",
       " 'Not recommended',\n",
       " \"New stupider ways to do old things. Taking a screenshot is absurd. You'd need to be a contortionist sitting at a desk. You will never take a screen shot on the fly, in your car, or standing around.Your old power cords won't work straight from a USB outlet. It will never charge that way.You have to have the plug to charge the phone. And, it doesn't come with a plug.They've dispensed with the back button in some interfaces and that's torture.The swipe gesture they've left you with (to go back) works once in fifty tries.The home button (Who uses the home button, on an Android?) is needed to take screenshots. ???\",\n",
       " \"1. If you use wifi you'll have to restart the device whenever it gets disconnected because you'll also lose cellular connection.2. Can't use wired head-phones because the built-in jack sounds like it was installed with water damage.\",\n",
       " \"I ordered this phone through Google Fi. The instructions say it should be fully charged before activating--except that it doesn't come with a charger. It only comes with a USB-C to USB-C cable. Good luck finding a device in your house that has a USB-C port. My USB hub doesn't. My desktop doesn't. My Dell laptop doesn't.Samsung's website description for the phone does not indicate it does not come with a charger and does not state what charger should be purchased for the phone. A review on Android Advisor says it's a 15W phone. Samsung's web store doesn't sell a 15W charger. Reviews on Android Advisor for chargers have a lot of negative comments on having to replace the charger. Amazon sells one, but has no reviews for that version.I've wasted a night trying to figure out how to activate this phone and find a charger. I finally decided to factory restore the phone and return it and get a Motorola phone that includes a charger. Samsung claims they aren't including a charger for environmental reasons. If I had an old phone with that charger, I wouldn't throw it away. It's a spare charger that can go in another room, the laptop bag, or put in a drawer in case the new one gets misplaced or damaged.Lesson learned. Verify that a new phone comes with a charger before buying. Otherwise, don't buy it.\"]"
      ]
     },
     "execution_count": 17,
     "metadata": {},
     "output_type": "execute_result"
    }
   ],
   "source": [
    "coments_translate"
   ]
  },
  {
   "cell_type": "code",
   "execution_count": null,
   "metadata": {},
   "outputs": [],
   "source": []
  }
 ],
 "metadata": {
  "kernelspec": {
   "display_name": "Python 3.10.1 64-bit",
   "language": "python",
   "name": "python3"
  },
  "language_info": {
   "codemirror_mode": {
    "name": "ipython",
    "version": 3
   },
   "file_extension": ".py",
   "mimetype": "text/x-python",
   "name": "python",
   "nbconvert_exporter": "python",
   "pygments_lexer": "ipython3",
   "version": "3.10.1"
  },
  "orig_nbformat": 4,
  "vscode": {
   "interpreter": {
    "hash": "369f2c481f4da34e4445cda3fffd2e751bd1c4d706f27375911949ba6bb62e1c"
   }
  }
 },
 "nbformat": 4,
 "nbformat_minor": 2
}
