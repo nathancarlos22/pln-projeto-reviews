{
 "cells": [
  {
   "cell_type": "code",
   "execution_count": 166,
   "metadata": {},
   "outputs": [],
   "source": [
    "from bs4 import BeautifulSoup\n",
    "import pandas as pd\n",
    "import requests\n",
    "import numpy as np\n",
    "from datetime import datetime\n",
    "import time\n",
    "import json\n",
    "import re\n",
    "import os\n",
    "\n",
    "from langdetect import detect\n",
    "import translators.server as ts\n",
    "\n",
    "from tqdm import tqdm\n",
    "from json import JSONDecodeError\n",
    "import warnings\n",
    "warnings.filterwarnings(\"ignore\")"
   ]
  },
  {
   "cell_type": "code",
   "execution_count": 167,
   "metadata": {},
   "outputs": [
    {
     "data": {
      "text/plain": [
       "'2.11.0'"
      ]
     },
     "execution_count": 167,
     "metadata": {},
     "output_type": "execute_result"
    }
   ],
   "source": [
    "import tensorflow as tf\n",
    "import pandas as pd\n",
    "import numpy as np\n",
    "import seaborn as sns\n",
    "import matplotlib.pyplot as plt\n",
    "\n",
    "from sklearn.feature_extraction.text import CountVectorizer\n",
    "from sklearn.model_selection import train_test_split\n",
    "from sklearn.metrics import classification_report, confusion_matrix"
   ]
  },
  {
   "cell_type": "code",
   "execution_count": 168,
   "metadata": {},
   "outputs": [],
   "source": [
    "headers = {'User-Agent': 'Mozilla/5.0 (Windows NT 10.0; Win64; x64) AppleWebKit/537.36 (KHTML, like Gecko) Chrome/104.0.0.0 Safari/537.36', 'Accept-Language':'pt-BR,pt;q=0.9,en;q=0.8'}\n",
    "s = requests.Session()"
   ]
  },
  {
   "cell_type": "code",
   "execution_count": 169,
   "metadata": {},
   "outputs": [],
   "source": [
    "def get_data(url, classe_name, tag_name):\n",
    "    html = requests.get(url, headers=headers).content\n",
    "    soup = BeautifulSoup(html, 'html.parser')\n",
    "    texto = ''\n",
    "    try:\n",
    "        texto = soup.find_all(tag_name, class_= classe_name).text.split('\\n')\n",
    "        return texto\n",
    "    \n",
    "    except AttributeError:\n",
    "        return []\n"
   ]
  },
  {
   "cell_type": "code",
   "execution_count": 401,
   "metadata": {},
   "outputs": [],
   "source": [
    "input = 'GTX 1630'\n",
    "text = input + ' amazon'\n",
    "url = \"https://www.google.com/search?q=\" + text\n",
    "\n",
    "request_result=s.get(url).content\n",
    "\n",
    "soup = BeautifulSoup(request_result,\"html.parser\")"
   ]
  },
  {
   "cell_type": "code",
   "execution_count": 402,
   "metadata": {},
   "outputs": [],
   "source": [
    "cont = 0\n",
    "\n",
    "new_url = ''\n",
    "reviews = []\n",
    "produtos = []\n",
    "for a in soup.find_all('a', href=True):    \n",
    "    if 'www.amazon.com' in a['href'] and '/dp/' in a['href']:\n",
    "        href888 = a['href']\n",
    "        produtos.append(a.h3.text)\n",
    "        new_url = href888.replace('/url?q=', '') # remove /url?q=\n",
    "        url_coments = new_url.split('&')[0].replace('/dp/', '/product-reviews/').replace('.br', '')\n",
    "        if '//'  in url_coments:\n",
    "            url_coments = url_coments.split('//')[1]\n",
    "        reviews.append('https://' + url_coments)"
   ]
  },
  {
   "cell_type": "code",
   "execution_count": 418,
   "metadata": {},
   "outputs": [
    {
     "name": "stdout",
     "output_type": "stream",
     "text": [
      "Analisando produto MSI Gaming GeForce GTX 1630 4GB GDRR6 64-Bit HDMI/DP/DVI ...\n",
      "4 total ratings, 2 with reviews\n",
      "1 Comentários\n",
      "\n",
      "Analisando produto EVGA GeForce GTX 1630 SC Gaming, 04G-P4-1633-KR, 4GB ...\n",
      "2 total ratings, 2 with reviews\n",
      "1 Comentários\n",
      "\n"
     ]
    }
   ],
   "source": [
    "from math import ceil\n",
    "coments = []\n",
    "cont=0\n",
    "for r in reviews:\n",
    "    \n",
    "    try:\n",
    "        html = s.get(r + f'/ref=cm_cr_dp_d_show_all_btm?ie=UTF8&reviewerType=all_reviews&pageNumber=1', headers=headers).content\n",
    "        soup = BeautifulSoup(html, 'html.parser')\n",
    "\n",
    "        a_soupi = soup.find_all('div', class_='a-row a-spacing-base a-size-base')\n",
    "        \n",
    "        if len(a_soupi) == 0:\n",
    "            continue\n",
    "        print(f\"Analisando produto {produtos[cont]}\")\n",
    "        print(a_soupi[0].text.replace('\\n', '').replace('  ', ''))\n",
    "        i = int(a_soupi[0].text.replace('\\n', '').replace('  ', '').replace(',', '').split('ratings ')[1].split(' ')[0])/10\n",
    "        i = ceil(i)\n",
    "\n",
    "\n",
    "        print(f\"{i} Comentários\\n\")\n",
    "\n",
    "        for j in range(1, i):\n",
    "            html = s.get(r + f'/ref=cm_cr_dp_d_show_all_btm?ie=UTF8&reviewerType=all_reviews&pageNumber={j}', headers=headers).content\n",
    "            a_soup = soup.find_all('div', class_='a-row a-spacing-small review-data')\n",
    "            print(a_soup)\n",
    "            \n",
    "            for a in a_soup:\n",
    "                for coment in a.text.split('\\n'):\n",
    "                    if coment != '':\n",
    "                        coments.append(coment)\n",
    "        \n",
    "    except:\n",
    "        print('error')\n",
    "        continue\n",
    "\n",
    "    cont+=1"
   ]
  },
  {
   "cell_type": "code",
   "execution_count": 417,
   "metadata": {},
   "outputs": [
    {
     "data": {
      "text/plain": [
       "[]"
      ]
     },
     "execution_count": 417,
     "metadata": {},
     "output_type": "execute_result"
    }
   ],
   "source": []
  },
  {
   "cell_type": "code",
   "execution_count": 404,
   "metadata": {},
   "outputs": [],
   "source": [
    "coments_translate = []\n",
    "for c in coments:\n",
    "    try:\n",
    "        detec = detect(c)\n",
    "        if detec != 'en':\n",
    "            len(c)\n",
    "            coments_translate.append(ts.google(c, to_language='en'))\n",
    "        else:\n",
    "            coments_translate.append(c)\n",
    "    except:\n",
    "        try:\n",
    "            coments_translate.append(ts.google(c, to_language='en'))\n",
    "        except:\n",
    "            \n",
    "            continue\n",
    "        continue"
   ]
  },
  {
   "cell_type": "code",
   "execution_count": 405,
   "metadata": {},
   "outputs": [
    {
     "name": "stdout",
     "output_type": "stream",
     "text": [
      "0 de 0 comentário traduzidos válidos\n"
     ]
    }
   ],
   "source": [
    "print(f'{len(coments_translate)} de {len(coments)} comentário traduzidos válidos')"
   ]
  },
  {
   "cell_type": "code",
   "execution_count": 406,
   "metadata": {},
   "outputs": [
    {
     "data": {
      "text/plain": [
       "[]"
      ]
     },
     "execution_count": 406,
     "metadata": {},
     "output_type": "execute_result"
    }
   ],
   "source": [
    "coments"
   ]
  },
  {
   "cell_type": "markdown",
   "metadata": {},
   "source": [
    "## Testando modelo"
   ]
  },
  {
   "cell_type": "code",
   "execution_count": 407,
   "metadata": {},
   "outputs": [],
   "source": [
    "from sklearn.linear_model import LogisticRegression\n",
    "import nltk"
   ]
  },
  {
   "cell_type": "code",
   "execution_count": 408,
   "metadata": {},
   "outputs": [
    {
     "name": "stderr",
     "output_type": "stream",
     "text": [
      "[nltk_data] Downloading package stopwords to\n",
      "[nltk_data]     C:\\Users\\Pichau\\AppData\\Roaming\\nltk_data...\n",
      "[nltk_data]   Package stopwords is already up-to-date!\n"
     ]
    }
   ],
   "source": [
    "# importando a lista da nltk\n",
    "nltk.download('stopwords')\n",
    "from nltk.corpus import stopwords\n",
    "\n",
    "stopwords_en = stopwords.words(\"english\")"
   ]
  },
  {
   "cell_type": "code",
   "execution_count": 409,
   "metadata": {},
   "outputs": [
    {
     "name": "stdout",
     "output_type": "stream",
     "text": [
      "✔ Download and installation successful\n",
      "You can now load the package via spacy.load('en_core_web_sm')\n"
     ]
    }
   ],
   "source": [
    "import spacy.cli\n",
    "\n",
    "spacy.cli.download(\"en_core_web_sm\")"
   ]
  },
  {
   "cell_type": "code",
   "execution_count": 410,
   "metadata": {},
   "outputs": [],
   "source": [
    "import en_core_web_sm\n",
    "\n",
    "spc_en = en_core_web_sm.load()"
   ]
  },
  {
   "cell_type": "code",
   "execution_count": 411,
   "metadata": {},
   "outputs": [],
   "source": [
    "df_alexa = pd.read_csv('amazon_alexa.tsv', sep = '\\t')"
   ]
  },
  {
   "cell_type": "code",
   "execution_count": 412,
   "metadata": {},
   "outputs": [],
   "source": [
    "positive = df_alexa[df_alexa['feedback'] == 1]\n",
    "negative = df_alexa[df_alexa['feedback'] == 0]\n"
   ]
  },
  {
   "cell_type": "code",
   "execution_count": 413,
   "metadata": {},
   "outputs": [],
   "source": [
    "df_alexa.drop(['date', 'rating', 'variation'], 1, inplace=True)\n"
   ]
  },
  {
   "cell_type": "code",
   "execution_count": 414,
   "metadata": {},
   "outputs": [
    {
     "data": {
      "text/html": [
       "<div>\n",
       "<style scoped>\n",
       "    .dataframe tbody tr th:only-of-type {\n",
       "        vertical-align: middle;\n",
       "    }\n",
       "\n",
       "    .dataframe tbody tr th {\n",
       "        vertical-align: top;\n",
       "    }\n",
       "\n",
       "    .dataframe thead th {\n",
       "        text-align: right;\n",
       "    }\n",
       "</style>\n",
       "<table border=\"1\" class=\"dataframe\">\n",
       "  <thead>\n",
       "    <tr style=\"text-align: right;\">\n",
       "      <th></th>\n",
       "      <th>verified_reviews</th>\n",
       "      <th>feedback</th>\n",
       "    </tr>\n",
       "  </thead>\n",
       "  <tbody>\n",
       "    <tr>\n",
       "      <th>0</th>\n",
       "      <td>Love my Echo!</td>\n",
       "      <td>1</td>\n",
       "    </tr>\n",
       "    <tr>\n",
       "      <th>1</th>\n",
       "      <td>Loved it!</td>\n",
       "      <td>1</td>\n",
       "    </tr>\n",
       "    <tr>\n",
       "      <th>2</th>\n",
       "      <td>Sometimes while playing a game, you can answer...</td>\n",
       "      <td>1</td>\n",
       "    </tr>\n",
       "    <tr>\n",
       "      <th>3</th>\n",
       "      <td>I have had a lot of fun with this thing. My 4 ...</td>\n",
       "      <td>1</td>\n",
       "    </tr>\n",
       "    <tr>\n",
       "      <th>4</th>\n",
       "      <td>Music</td>\n",
       "      <td>1</td>\n",
       "    </tr>\n",
       "    <tr>\n",
       "      <th>...</th>\n",
       "      <td>...</td>\n",
       "      <td>...</td>\n",
       "    </tr>\n",
       "    <tr>\n",
       "      <th>3145</th>\n",
       "      <td>Perfect for kids, adults and everyone in betwe...</td>\n",
       "      <td>1</td>\n",
       "    </tr>\n",
       "    <tr>\n",
       "      <th>3146</th>\n",
       "      <td>Listening to music, searching locations, check...</td>\n",
       "      <td>1</td>\n",
       "    </tr>\n",
       "    <tr>\n",
       "      <th>3147</th>\n",
       "      <td>I do love these things, i have them running my...</td>\n",
       "      <td>1</td>\n",
       "    </tr>\n",
       "    <tr>\n",
       "      <th>3148</th>\n",
       "      <td>Only complaint I have is that the sound qualit...</td>\n",
       "      <td>1</td>\n",
       "    </tr>\n",
       "    <tr>\n",
       "      <th>3149</th>\n",
       "      <td>Good</td>\n",
       "      <td>1</td>\n",
       "    </tr>\n",
       "  </tbody>\n",
       "</table>\n",
       "<p>3150 rows × 2 columns</p>\n",
       "</div>"
      ],
      "text/plain": [
       "                                       verified_reviews  feedback\n",
       "0                                         Love my Echo!         1\n",
       "1                                             Loved it!         1\n",
       "2     Sometimes while playing a game, you can answer...         1\n",
       "3     I have had a lot of fun with this thing. My 4 ...         1\n",
       "4                                                 Music         1\n",
       "...                                                 ...       ...\n",
       "3145  Perfect for kids, adults and everyone in betwe...         1\n",
       "3146  Listening to music, searching locations, check...         1\n",
       "3147  I do love these things, i have them running my...         1\n",
       "3148  Only complaint I have is that the sound qualit...         1\n",
       "3149                                               Good         1\n",
       "\n",
       "[3150 rows x 2 columns]"
      ]
     },
     "execution_count": 414,
     "metadata": {},
     "output_type": "execute_result"
    }
   ],
   "source": [
    "df_alexa"
   ]
  },
  {
   "cell_type": "code",
   "execution_count": 415,
   "metadata": {},
   "outputs": [],
   "source": [
    "def limpa_texto(texto):\n",
    "  '''(str) -> str\n",
    "  Essa funcao recebe uma string, deixa tudo em minusculo, filtra apenas letras,\n",
    "  retira stopwords, lemmatiza e retorna a string resultante.\n",
    "  '''\n",
    "  texto = texto.lower()\n",
    "\n",
    "  texto = re.sub(r\"[\\W\\d_]+\", \" \", texto)\n",
    "\n",
    "  texto = [pal for pal in texto.split() if pal not in stopwords_en]\n",
    "\n",
    "  spc_texto = spc_en(\" \".join(texto))\n",
    "  tokens = [word.lemma_ if word.lemma_ != \"-PRON-\" else word.lower_ for word in spc_texto]\n",
    "  \n",
    "  return \" \".join(tokens)"
   ]
  },
  {
   "cell_type": "code",
   "execution_count": 416,
   "metadata": {},
   "outputs": [
    {
     "ename": "KeyboardInterrupt",
     "evalue": "",
     "output_type": "error",
     "traceback": [
      "\u001b[1;31m---------------------------------------------------------------------------\u001b[0m",
      "\u001b[1;31mKeyboardInterrupt\u001b[0m                         Traceback (most recent call last)",
      "\u001b[1;32mc:\\Users\\Pichau\\Desktop\\pln\\projeto-pln\\main.ipynb Célula: 21\u001b[0m in \u001b[0;36m<cell line: 2>\u001b[1;34m()\u001b[0m\n\u001b[0;32m      <a href='vscode-notebook-cell:/c%3A/Users/Pichau/Desktop/pln/projeto-pln/main.ipynb#X26sZmlsZQ%3D%3D?line=0'>1</a>\u001b[0m \u001b[39m# Aplica a funcao nas reviews do dataset\u001b[39;00m\n\u001b[1;32m----> <a href='vscode-notebook-cell:/c%3A/Users/Pichau/Desktop/pln/projeto-pln/main.ipynb#X26sZmlsZQ%3D%3D?line=1'>2</a>\u001b[0m df_alexa[\u001b[39m'\u001b[39m\u001b[39mverified_reviews\u001b[39m\u001b[39m'\u001b[39m] \u001b[39m=\u001b[39m df_alexa[\u001b[39m'\u001b[39;49m\u001b[39mverified_reviews\u001b[39;49m\u001b[39m'\u001b[39;49m]\u001b[39m.\u001b[39;49mapply(limpa_texto)\n",
      "File \u001b[1;32m~\\AppData\\Roaming\\Python\\Python310\\site-packages\\pandas\\core\\series.py:4433\u001b[0m, in \u001b[0;36mSeries.apply\u001b[1;34m(self, func, convert_dtype, args, **kwargs)\u001b[0m\n\u001b[0;32m   4323\u001b[0m \u001b[39mdef\u001b[39;00m \u001b[39mapply\u001b[39m(\n\u001b[0;32m   4324\u001b[0m     \u001b[39mself\u001b[39m,\n\u001b[0;32m   4325\u001b[0m     func: AggFuncType,\n\u001b[1;32m   (...)\u001b[0m\n\u001b[0;32m   4328\u001b[0m     \u001b[39m*\u001b[39m\u001b[39m*\u001b[39mkwargs,\n\u001b[0;32m   4329\u001b[0m ) \u001b[39m-\u001b[39m\u001b[39m>\u001b[39m DataFrame \u001b[39m|\u001b[39m Series:\n\u001b[0;32m   4330\u001b[0m     \u001b[39m\"\"\"\u001b[39;00m\n\u001b[0;32m   4331\u001b[0m \u001b[39m    Invoke function on values of Series.\u001b[39;00m\n\u001b[0;32m   4332\u001b[0m \n\u001b[1;32m   (...)\u001b[0m\n\u001b[0;32m   4431\u001b[0m \u001b[39m    dtype: float64\u001b[39;00m\n\u001b[0;32m   4432\u001b[0m \u001b[39m    \"\"\"\u001b[39;00m\n\u001b[1;32m-> 4433\u001b[0m     \u001b[39mreturn\u001b[39;00m SeriesApply(\u001b[39mself\u001b[39;49m, func, convert_dtype, args, kwargs)\u001b[39m.\u001b[39;49mapply()\n",
      "File \u001b[1;32m~\\AppData\\Roaming\\Python\\Python310\\site-packages\\pandas\\core\\apply.py:1088\u001b[0m, in \u001b[0;36mSeriesApply.apply\u001b[1;34m(self)\u001b[0m\n\u001b[0;32m   1084\u001b[0m \u001b[39mif\u001b[39;00m \u001b[39misinstance\u001b[39m(\u001b[39mself\u001b[39m\u001b[39m.\u001b[39mf, \u001b[39mstr\u001b[39m):\n\u001b[0;32m   1085\u001b[0m     \u001b[39m# if we are a string, try to dispatch\u001b[39;00m\n\u001b[0;32m   1086\u001b[0m     \u001b[39mreturn\u001b[39;00m \u001b[39mself\u001b[39m\u001b[39m.\u001b[39mapply_str()\n\u001b[1;32m-> 1088\u001b[0m \u001b[39mreturn\u001b[39;00m \u001b[39mself\u001b[39;49m\u001b[39m.\u001b[39;49mapply_standard()\n",
      "File \u001b[1;32m~\\AppData\\Roaming\\Python\\Python310\\site-packages\\pandas\\core\\apply.py:1143\u001b[0m, in \u001b[0;36mSeriesApply.apply_standard\u001b[1;34m(self)\u001b[0m\n\u001b[0;32m   1137\u001b[0m         values \u001b[39m=\u001b[39m obj\u001b[39m.\u001b[39mastype(\u001b[39mobject\u001b[39m)\u001b[39m.\u001b[39m_values\n\u001b[0;32m   1138\u001b[0m         \u001b[39m# error: Argument 2 to \"map_infer\" has incompatible type\u001b[39;00m\n\u001b[0;32m   1139\u001b[0m         \u001b[39m# \"Union[Callable[..., Any], str, List[Union[Callable[..., Any], str]],\u001b[39;00m\n\u001b[0;32m   1140\u001b[0m         \u001b[39m# Dict[Hashable, Union[Union[Callable[..., Any], str],\u001b[39;00m\n\u001b[0;32m   1141\u001b[0m         \u001b[39m# List[Union[Callable[..., Any], str]]]]]\"; expected\u001b[39;00m\n\u001b[0;32m   1142\u001b[0m         \u001b[39m# \"Callable[[Any], Any]\"\u001b[39;00m\n\u001b[1;32m-> 1143\u001b[0m         mapped \u001b[39m=\u001b[39m lib\u001b[39m.\u001b[39;49mmap_infer(\n\u001b[0;32m   1144\u001b[0m             values,\n\u001b[0;32m   1145\u001b[0m             f,  \u001b[39m# type: ignore[arg-type]\u001b[39;49;00m\n\u001b[0;32m   1146\u001b[0m             convert\u001b[39m=\u001b[39;49m\u001b[39mself\u001b[39;49m\u001b[39m.\u001b[39;49mconvert_dtype,\n\u001b[0;32m   1147\u001b[0m         )\n\u001b[0;32m   1149\u001b[0m \u001b[39mif\u001b[39;00m \u001b[39mlen\u001b[39m(mapped) \u001b[39mand\u001b[39;00m \u001b[39misinstance\u001b[39m(mapped[\u001b[39m0\u001b[39m], ABCSeries):\n\u001b[0;32m   1150\u001b[0m     \u001b[39m# GH#43986 Need to do list(mapped) in order to get treated as nested\u001b[39;00m\n\u001b[0;32m   1151\u001b[0m     \u001b[39m#  See also GH#25959 regarding EA support\u001b[39;00m\n\u001b[0;32m   1152\u001b[0m     \u001b[39mreturn\u001b[39;00m obj\u001b[39m.\u001b[39m_constructor_expanddim(\u001b[39mlist\u001b[39m(mapped), index\u001b[39m=\u001b[39mobj\u001b[39m.\u001b[39mindex)\n",
      "File \u001b[1;32m~\\AppData\\Roaming\\Python\\Python310\\site-packages\\pandas\\_libs\\lib.pyx:2870\u001b[0m, in \u001b[0;36mpandas._libs.lib.map_infer\u001b[1;34m()\u001b[0m\n",
      "\u001b[1;32mc:\\Users\\Pichau\\Desktop\\pln\\projeto-pln\\main.ipynb Célula: 21\u001b[0m in \u001b[0;36mlimpa_texto\u001b[1;34m(texto)\u001b[0m\n\u001b[0;32m      <a href='vscode-notebook-cell:/c%3A/Users/Pichau/Desktop/pln/projeto-pln/main.ipynb#X26sZmlsZQ%3D%3D?line=7'>8</a>\u001b[0m texto \u001b[39m=\u001b[39m re\u001b[39m.\u001b[39msub(\u001b[39mr\u001b[39m\u001b[39m\"\u001b[39m\u001b[39m[\u001b[39m\u001b[39m\\\u001b[39m\u001b[39mW\u001b[39m\u001b[39m\\\u001b[39m\u001b[39md_]+\u001b[39m\u001b[39m\"\u001b[39m, \u001b[39m\"\u001b[39m\u001b[39m \u001b[39m\u001b[39m\"\u001b[39m, texto)\n\u001b[0;32m     <a href='vscode-notebook-cell:/c%3A/Users/Pichau/Desktop/pln/projeto-pln/main.ipynb#X26sZmlsZQ%3D%3D?line=9'>10</a>\u001b[0m texto \u001b[39m=\u001b[39m [pal \u001b[39mfor\u001b[39;00m pal \u001b[39min\u001b[39;00m texto\u001b[39m.\u001b[39msplit() \u001b[39mif\u001b[39;00m pal \u001b[39mnot\u001b[39;00m \u001b[39min\u001b[39;00m stopwords_en]\n\u001b[1;32m---> <a href='vscode-notebook-cell:/c%3A/Users/Pichau/Desktop/pln/projeto-pln/main.ipynb#X26sZmlsZQ%3D%3D?line=11'>12</a>\u001b[0m spc_texto \u001b[39m=\u001b[39m spc_en(\u001b[39m\"\u001b[39;49m\u001b[39m \u001b[39;49m\u001b[39m\"\u001b[39;49m\u001b[39m.\u001b[39;49mjoin(texto))\n\u001b[0;32m     <a href='vscode-notebook-cell:/c%3A/Users/Pichau/Desktop/pln/projeto-pln/main.ipynb#X26sZmlsZQ%3D%3D?line=12'>13</a>\u001b[0m tokens \u001b[39m=\u001b[39m [word\u001b[39m.\u001b[39mlemma_ \u001b[39mif\u001b[39;00m word\u001b[39m.\u001b[39mlemma_ \u001b[39m!=\u001b[39m \u001b[39m\"\u001b[39m\u001b[39m-PRON-\u001b[39m\u001b[39m\"\u001b[39m \u001b[39melse\u001b[39;00m word\u001b[39m.\u001b[39mlower_ \u001b[39mfor\u001b[39;00m word \u001b[39min\u001b[39;00m spc_texto]\n\u001b[0;32m     <a href='vscode-notebook-cell:/c%3A/Users/Pichau/Desktop/pln/projeto-pln/main.ipynb#X26sZmlsZQ%3D%3D?line=14'>15</a>\u001b[0m \u001b[39mreturn\u001b[39;00m \u001b[39m\"\u001b[39m\u001b[39m \u001b[39m\u001b[39m\"\u001b[39m\u001b[39m.\u001b[39mjoin(tokens)\n",
      "File \u001b[1;32m~\\AppData\\Roaming\\Python\\Python310\\site-packages\\spacy\\language.py:1026\u001b[0m, in \u001b[0;36mLanguage.__call__\u001b[1;34m(self, text, disable, component_cfg)\u001b[0m\n\u001b[0;32m   1024\u001b[0m     error_handler \u001b[39m=\u001b[39m proc\u001b[39m.\u001b[39mget_error_handler()\n\u001b[0;32m   1025\u001b[0m \u001b[39mtry\u001b[39;00m:\n\u001b[1;32m-> 1026\u001b[0m     doc \u001b[39m=\u001b[39m proc(doc, \u001b[39m*\u001b[39m\u001b[39m*\u001b[39mcomponent_cfg\u001b[39m.\u001b[39mget(name, {}))  \u001b[39m# type: ignore[call-arg]\u001b[39;00m\n\u001b[0;32m   1027\u001b[0m \u001b[39mexcept\u001b[39;00m \u001b[39mKeyError\u001b[39;00m \u001b[39mas\u001b[39;00m e:\n\u001b[0;32m   1028\u001b[0m     \u001b[39m# This typically happens if a component is not initialized\u001b[39;00m\n\u001b[0;32m   1029\u001b[0m     \u001b[39mraise\u001b[39;00m \u001b[39mValueError\u001b[39;00m(Errors\u001b[39m.\u001b[39mE109\u001b[39m.\u001b[39mformat(name\u001b[39m=\u001b[39mname)) \u001b[39mfrom\u001b[39;00m \u001b[39me\u001b[39;00m\n",
      "File \u001b[1;32m~\\AppData\\Roaming\\Python\\Python310\\site-packages\\spacy\\pipeline\\trainable_pipe.pyx:52\u001b[0m, in \u001b[0;36mspacy.pipeline.trainable_pipe.TrainablePipe.__call__\u001b[1;34m()\u001b[0m\n",
      "File \u001b[1;32m~\\AppData\\Roaming\\Python\\Python310\\site-packages\\spacy\\pipeline\\tok2vec.py:125\u001b[0m, in \u001b[0;36mTok2Vec.predict\u001b[1;34m(self, docs)\u001b[0m\n\u001b[0;32m    123\u001b[0m     width \u001b[39m=\u001b[39m \u001b[39mself\u001b[39m\u001b[39m.\u001b[39mmodel\u001b[39m.\u001b[39mget_dim(\u001b[39m\"\u001b[39m\u001b[39mnO\u001b[39m\u001b[39m\"\u001b[39m)\n\u001b[0;32m    124\u001b[0m     \u001b[39mreturn\u001b[39;00m [\u001b[39mself\u001b[39m\u001b[39m.\u001b[39mmodel\u001b[39m.\u001b[39mops\u001b[39m.\u001b[39malloc((\u001b[39m0\u001b[39m, width)) \u001b[39mfor\u001b[39;00m doc \u001b[39min\u001b[39;00m docs]\n\u001b[1;32m--> 125\u001b[0m tokvecs \u001b[39m=\u001b[39m \u001b[39mself\u001b[39;49m\u001b[39m.\u001b[39;49mmodel\u001b[39m.\u001b[39;49mpredict(docs)\n\u001b[0;32m    126\u001b[0m batch_id \u001b[39m=\u001b[39m Tok2VecListener\u001b[39m.\u001b[39mget_batch_id(docs)\n\u001b[0;32m    127\u001b[0m \u001b[39mfor\u001b[39;00m listener \u001b[39min\u001b[39;00m \u001b[39mself\u001b[39m\u001b[39m.\u001b[39mlisteners:\n",
      "File \u001b[1;32m~\\AppData\\Roaming\\Python\\Python310\\site-packages\\thinc\\model.py:315\u001b[0m, in \u001b[0;36mModel.predict\u001b[1;34m(self, X)\u001b[0m\n\u001b[0;32m    311\u001b[0m \u001b[39mdef\u001b[39;00m \u001b[39mpredict\u001b[39m(\u001b[39mself\u001b[39m, X: InT) \u001b[39m-\u001b[39m\u001b[39m>\u001b[39m OutT:\n\u001b[0;32m    312\u001b[0m     \u001b[39m\"\"\"Call the model's `forward` function with `is_train=False`, and return\u001b[39;00m\n\u001b[0;32m    313\u001b[0m \u001b[39m    only the output, instead of the `(output, callback)` tuple.\u001b[39;00m\n\u001b[0;32m    314\u001b[0m \u001b[39m    \"\"\"\u001b[39;00m\n\u001b[1;32m--> 315\u001b[0m     \u001b[39mreturn\u001b[39;00m \u001b[39mself\u001b[39;49m\u001b[39m.\u001b[39;49m_func(\u001b[39mself\u001b[39;49m, X, is_train\u001b[39m=\u001b[39;49m\u001b[39mFalse\u001b[39;49;00m)[\u001b[39m0\u001b[39m]\n",
      "File \u001b[1;32m~\\AppData\\Roaming\\Python\\Python310\\site-packages\\thinc\\layers\\chain.py:55\u001b[0m, in \u001b[0;36mforward\u001b[1;34m(model, X, is_train)\u001b[0m\n\u001b[0;32m     53\u001b[0m callbacks \u001b[39m=\u001b[39m []\n\u001b[0;32m     54\u001b[0m \u001b[39mfor\u001b[39;00m layer \u001b[39min\u001b[39;00m model\u001b[39m.\u001b[39mlayers:\n\u001b[1;32m---> 55\u001b[0m     Y, inc_layer_grad \u001b[39m=\u001b[39m layer(X, is_train\u001b[39m=\u001b[39;49mis_train)\n\u001b[0;32m     56\u001b[0m     callbacks\u001b[39m.\u001b[39mappend(inc_layer_grad)\n\u001b[0;32m     57\u001b[0m     X \u001b[39m=\u001b[39m Y\n",
      "File \u001b[1;32m~\\AppData\\Roaming\\Python\\Python310\\site-packages\\thinc\\model.py:291\u001b[0m, in \u001b[0;36mModel.__call__\u001b[1;34m(self, X, is_train)\u001b[0m\n\u001b[0;32m    288\u001b[0m \u001b[39mdef\u001b[39;00m \u001b[39m__call__\u001b[39m(\u001b[39mself\u001b[39m, X: InT, is_train: \u001b[39mbool\u001b[39m) \u001b[39m-\u001b[39m\u001b[39m>\u001b[39m Tuple[OutT, Callable]:\n\u001b[0;32m    289\u001b[0m     \u001b[39m\"\"\"Call the model's `forward` function, returning the output and a\u001b[39;00m\n\u001b[0;32m    290\u001b[0m \u001b[39m    callback to compute the gradients via backpropagation.\"\"\"\u001b[39;00m\n\u001b[1;32m--> 291\u001b[0m     \u001b[39mreturn\u001b[39;00m \u001b[39mself\u001b[39;49m\u001b[39m.\u001b[39;49m_func(\u001b[39mself\u001b[39;49m, X, is_train\u001b[39m=\u001b[39;49mis_train)\n",
      "File \u001b[1;32m~\\AppData\\Roaming\\Python\\Python310\\site-packages\\thinc\\layers\\with_array.py:38\u001b[0m, in \u001b[0;36mforward\u001b[1;34m(model, Xseq, is_train)\u001b[0m\n\u001b[0;32m     36\u001b[0m     \u001b[39mreturn\u001b[39;00m model\u001b[39m.\u001b[39mlayers[\u001b[39m0\u001b[39m](Xseq, is_train)\n\u001b[0;32m     37\u001b[0m \u001b[39melse\u001b[39;00m:\n\u001b[1;32m---> 38\u001b[0m     \u001b[39mreturn\u001b[39;00m cast(Tuple[SeqT, Callable], _list_forward(model, Xseq, is_train))\n",
      "File \u001b[1;32m~\\AppData\\Roaming\\Python\\Python310\\site-packages\\thinc\\layers\\with_array.py:73\u001b[0m, in \u001b[0;36m_list_forward\u001b[1;34m(model, Xs, is_train)\u001b[0m\n\u001b[0;32m     71\u001b[0m lengths \u001b[39m=\u001b[39m layer\u001b[39m.\u001b[39mops\u001b[39m.\u001b[39masarray1i([\u001b[39mlen\u001b[39m(seq) \u001b[39mfor\u001b[39;00m seq \u001b[39min\u001b[39;00m Xs])\n\u001b[0;32m     72\u001b[0m Xf \u001b[39m=\u001b[39m layer\u001b[39m.\u001b[39mops\u001b[39m.\u001b[39mflatten(Xs, pad\u001b[39m=\u001b[39mpad)\n\u001b[1;32m---> 73\u001b[0m Yf, get_dXf \u001b[39m=\u001b[39m layer(Xf, is_train)\n\u001b[0;32m     75\u001b[0m \u001b[39mdef\u001b[39;00m \u001b[39mbackprop\u001b[39m(dYs: ListXd) \u001b[39m-\u001b[39m\u001b[39m>\u001b[39m ListXd:\n\u001b[0;32m     76\u001b[0m     dYf \u001b[39m=\u001b[39m layer\u001b[39m.\u001b[39mops\u001b[39m.\u001b[39mflatten(dYs, pad\u001b[39m=\u001b[39mpad)\n",
      "File \u001b[1;32m~\\AppData\\Roaming\\Python\\Python310\\site-packages\\thinc\\model.py:291\u001b[0m, in \u001b[0;36mModel.__call__\u001b[1;34m(self, X, is_train)\u001b[0m\n\u001b[0;32m    288\u001b[0m \u001b[39mdef\u001b[39;00m \u001b[39m__call__\u001b[39m(\u001b[39mself\u001b[39m, X: InT, is_train: \u001b[39mbool\u001b[39m) \u001b[39m-\u001b[39m\u001b[39m>\u001b[39m Tuple[OutT, Callable]:\n\u001b[0;32m    289\u001b[0m     \u001b[39m\"\"\"Call the model's `forward` function, returning the output and a\u001b[39;00m\n\u001b[0;32m    290\u001b[0m \u001b[39m    callback to compute the gradients via backpropagation.\"\"\"\u001b[39;00m\n\u001b[1;32m--> 291\u001b[0m     \u001b[39mreturn\u001b[39;00m \u001b[39mself\u001b[39;49m\u001b[39m.\u001b[39;49m_func(\u001b[39mself\u001b[39;49m, X, is_train\u001b[39m=\u001b[39;49mis_train)\n",
      "File \u001b[1;32m~\\AppData\\Roaming\\Python\\Python310\\site-packages\\thinc\\layers\\chain.py:55\u001b[0m, in \u001b[0;36mforward\u001b[1;34m(model, X, is_train)\u001b[0m\n\u001b[0;32m     53\u001b[0m callbacks \u001b[39m=\u001b[39m []\n\u001b[0;32m     54\u001b[0m \u001b[39mfor\u001b[39;00m layer \u001b[39min\u001b[39;00m model\u001b[39m.\u001b[39mlayers:\n\u001b[1;32m---> 55\u001b[0m     Y, inc_layer_grad \u001b[39m=\u001b[39m layer(X, is_train\u001b[39m=\u001b[39;49mis_train)\n\u001b[0;32m     56\u001b[0m     callbacks\u001b[39m.\u001b[39mappend(inc_layer_grad)\n\u001b[0;32m     57\u001b[0m     X \u001b[39m=\u001b[39m Y\n",
      "File \u001b[1;32m~\\AppData\\Roaming\\Python\\Python310\\site-packages\\thinc\\model.py:291\u001b[0m, in \u001b[0;36mModel.__call__\u001b[1;34m(self, X, is_train)\u001b[0m\n\u001b[0;32m    288\u001b[0m \u001b[39mdef\u001b[39;00m \u001b[39m__call__\u001b[39m(\u001b[39mself\u001b[39m, X: InT, is_train: \u001b[39mbool\u001b[39m) \u001b[39m-\u001b[39m\u001b[39m>\u001b[39m Tuple[OutT, Callable]:\n\u001b[0;32m    289\u001b[0m     \u001b[39m\"\"\"Call the model's `forward` function, returning the output and a\u001b[39;00m\n\u001b[0;32m    290\u001b[0m \u001b[39m    callback to compute the gradients via backpropagation.\"\"\"\u001b[39;00m\n\u001b[1;32m--> 291\u001b[0m     \u001b[39mreturn\u001b[39;00m \u001b[39mself\u001b[39;49m\u001b[39m.\u001b[39;49m_func(\u001b[39mself\u001b[39;49m, X, is_train\u001b[39m=\u001b[39;49mis_train)\n",
      "\u001b[1;31mKeyboardInterrupt\u001b[0m: "
     ]
    }
   ],
   "source": [
    "# Aplica a funcao nas reviews do dataset\n",
    "df_alexa['verified_reviews'] = df_alexa['verified_reviews'].apply(limpa_texto)"
   ]
  },
  {
   "cell_type": "markdown",
   "metadata": {},
   "source": [
    "## Vectorizer"
   ]
  },
  {
   "cell_type": "code",
   "execution_count": null,
   "metadata": {},
   "outputs": [],
   "source": [
    "from sklearn.feature_extraction.text import TfidfVectorizer"
   ]
  },
  {
   "cell_type": "code",
   "execution_count": null,
   "metadata": {},
   "outputs": [],
   "source": [
    "texto = df_alexa['verified_reviews']\n",
    "# Importando o TfidfVectorizer\n",
    "\n",
    "# Instanciando o TfidfVectorizer\n",
    "tfidf_vect = TfidfVectorizer()\n",
    "\n",
    "# Vetorizando\n",
    "X_tfidf = tfidf_vect.fit_transform(texto)"
   ]
  },
  {
   "cell_type": "markdown",
   "metadata": {},
   "source": [
    "## Modelo"
   ]
  },
  {
   "cell_type": "code",
   "execution_count": null,
   "metadata": {},
   "outputs": [],
   "source": [
    "X_train, X_test, y_train, y_test = train_test_split(X_tfidf.toarray(), df_alexa['feedback'], test_size = 0.2, random_state = 42)"
   ]
  },
  {
   "cell_type": "code",
   "execution_count": null,
   "metadata": {},
   "outputs": [
    {
     "data": {
      "text/plain": [
       "(2520, 3103)"
      ]
     },
     "execution_count": 382,
     "metadata": {},
     "output_type": "execute_result"
    }
   ],
   "source": [
    "X_train.shape\n"
   ]
  },
  {
   "cell_type": "code",
   "execution_count": null,
   "metadata": {},
   "outputs": [
    {
     "data": {
      "text/plain": [
       "(630, 3103)"
      ]
     },
     "execution_count": 383,
     "metadata": {},
     "output_type": "execute_result"
    }
   ],
   "source": [
    "X_test.shape"
   ]
  },
  {
   "cell_type": "code",
   "execution_count": null,
   "metadata": {},
   "outputs": [],
   "source": [
    "# reglog = LogisticRegression()\n",
    "\n",
    "# # Aplicando o modelo\n",
    "# reglog.fit(X_train, y_train)\n",
    "\n",
    "# # Predicao\n",
    "# y_pred_test = reglog.predict(X_test)\n",
    "\n",
    "classifier = tf.keras.models.Sequential()\n",
    "classifier.add(tf.keras.layers.Dense(units = 10, activation='relu', input_shape=(3103,)))\n",
    "classifier.add(tf.keras.layers.Dense(units = 10, activation='relu'))\n",
    "classifier.add(tf.keras.layers.Dense(units = 1, activation='sigmoid'))"
   ]
  },
  {
   "cell_type": "code",
   "execution_count": null,
   "metadata": {},
   "outputs": [],
   "source": [
    "classifier.compile(optimizer='Adam', loss='binary_crossentropy', metrics = ['accuracy'])\n"
   ]
  },
  {
   "cell_type": "code",
   "execution_count": null,
   "metadata": {},
   "outputs": [
    {
     "name": "stdout",
     "output_type": "stream",
     "text": [
      "Epoch 1/10\n",
      "79/79 [==============================] - 1s 1ms/step - loss: 0.5951 - accuracy: 0.9036\n",
      "Epoch 2/10\n",
      "79/79 [==============================] - 0s 1ms/step - loss: 0.3462 - accuracy: 0.9210\n",
      "Epoch 3/10\n",
      "79/79 [==============================] - 0s 1ms/step - loss: 0.2459 - accuracy: 0.9210\n",
      "Epoch 4/10\n",
      "79/79 [==============================] - 0s 1ms/step - loss: 0.2155 - accuracy: 0.9210\n",
      "Epoch 5/10\n",
      "79/79 [==============================] - 0s 1ms/step - loss: 0.1827 - accuracy: 0.9210\n",
      "Epoch 6/10\n",
      "79/79 [==============================] - 0s 1ms/step - loss: 0.1421 - accuracy: 0.9381\n",
      "Epoch 7/10\n",
      "79/79 [==============================] - 0s 1ms/step - loss: 0.1086 - accuracy: 0.9595\n",
      "Epoch 8/10\n",
      "79/79 [==============================] - 0s 1ms/step - loss: 0.0833 - accuracy: 0.9746\n",
      "Epoch 9/10\n",
      "79/79 [==============================] - 0s 1ms/step - loss: 0.0660 - accuracy: 0.9806\n",
      "Epoch 10/10\n",
      "79/79 [==============================] - 0s 1ms/step - loss: 0.0538 - accuracy: 0.9865\n"
     ]
    }
   ],
   "source": [
    "epochs_hist = classifier.fit(X_train, y_train, epochs=10)\n"
   ]
  },
  {
   "cell_type": "code",
   "execution_count": null,
   "metadata": {},
   "outputs": [
    {
     "name": "stdout",
     "output_type": "stream",
     "text": [
      "20/20 [==============================] - 0s 763us/step\n"
     ]
    }
   ],
   "source": [
    "y_pred_test = (classifier.predict(X_test) > 0.5).astype(int)\n",
    "# y_pred_test = (y_pred_test > 0.5).astype(int)"
   ]
  },
  {
   "cell_type": "code",
   "execution_count": null,
   "metadata": {},
   "outputs": [
    {
     "name": "stdout",
     "output_type": "stream",
     "text": [
      "              precision    recall  f1-score   support\n",
      "\n",
      "           0       0.80      0.41      0.55        58\n",
      "           1       0.94      0.99      0.97       572\n",
      "\n",
      "    accuracy                           0.94       630\n",
      "   macro avg       0.87      0.70      0.76       630\n",
      "weighted avg       0.93      0.94      0.93       630\n",
      "\n"
     ]
    }
   ],
   "source": [
    "print(classification_report(y_test,y_pred_test))"
   ]
  },
  {
   "cell_type": "code",
   "execution_count": null,
   "metadata": {},
   "outputs": [
    {
     "name": "stdout",
     "output_type": "stream",
     "text": [
      "1/1 [==============================] - 0s 18ms/step\n"
     ]
    },
    {
     "data": {
      "text/plain": [
       "array([[0]])"
      ]
     },
     "execution_count": 389,
     "metadata": {},
     "output_type": "execute_result"
    }
   ],
   "source": [
    "texto_vetorizado = tfidf_vect.transform(['horrible product'])\n",
    "y_pred_test = (classifier.predict(texto_vetorizado.toarray()) > 0.5).astype(int)\n",
    "y_pred_test"
   ]
  },
  {
   "cell_type": "code",
   "execution_count": null,
   "metadata": {},
   "outputs": [
    {
     "data": {
      "text/plain": [
       "['Edit: Customer Service swapped my flawed GPU with a new in box video card.It works well, 85fps in Cinebench. But it does have two issues, and they are tenable. The four rear outputs are mislabeled. I have a programs that looks for device default audio on \"Playback Device Digital Audio 1\". I had to put the cable in port 3 to make it do that in the sound properties.The fan on the GPU is erratic. I used Speedfan to work around. On the \"Fan Control Tab\" I made a \"Fan Controller\" and used GPU Fan from ATI Video Card as the \"Controlled Speed\". With my 50MM helper fan controlled by the CPU Temp, the temps stay between 26C and 53C.About one year ago I bought my first USED peripheral from Amazon, a MSi RX560 4GB that still works great. So when I discovered that the New VisionTek RX560 4GB LP I ordered was fulfilled with an open box instead. I didn\\'t panic, because I always have a great experience with Amazon.How an open box got in with the New products, I will never know. The Amazon CS seemed surprised also, that I got an open box. But, she was very kind and ordered a replacement. So I predict happy days ahead.I did extensive trouble shooting prior to contacting Customer Support. And, after trying this GPU in 3 computers (W10 64 and W7 64), I am of the opinion, that this is a lightning strike or OC damaged GPU that was returned to Amazon. I would think it should have been RMA to VisionTek, for repairs.Since my PC had a working Radeon, a R7240 using V19.12.2 Adrenaline driver. I device manager uninstalled GPU driver, installed VGA and shut down. When RX560 card was installed, it booted, found it\\'s driver in the Adrenaline package and rebooted, but halted after the W7 \"Starting Windows\" swoosh disappeared. I used DDA (removed the whole smack) driver uninstaller and tried the V19.12.2, V21.4.1 and V21.5.2. Got same freeze at boot but would reliably boot to W7 desktop in VGA or Safe Mode. In W10, it booted, found the Windows Standard Video Driver, (which looks pretty darn good BTW), but when I ran WUpdate and installed the AMD Driver, it rebooted and froze with a Blue Oops Screen. I was able to get W10 to the Desktop only in Safe Mode or VGA mode. I was certain by then, I had received my very first DOA GPU.I read that some users feel the 50mm fan is insufficient. Some even modded the stock fan or heatsink. I have tight quarters in my HTPC case, so I added a 50mm that blows on the heatsink to help cooling.',\n",
       " \"I wanted to set up three monitors for Flight Simulator, so I purchased this in August 2020. It has worked spectacularly well! My MSFS runs at the ultra high settings without a hitch or hesitation. The installation was a breeze, and I have not had to tweak settings to get the performance I wanted.I gave it 5 stars, but really can't comment about tech support, because I have not needed any.My new Dell XPS comes next month, and this card is for sure finding a new home in it first thing after initial set up.\",\n",
       " \"Not using this card for gaming so I can't comment. It is running three monitors perfectly however. My only complaint is the fan noise can be quite loud (whining). I had to set the fan speed to 35% max to avoid the whine. Seems to keep the card well within specs heat wise. Other than that the card has met my expectations.\",\n",
       " 'The card itself works great, play 1080p games with a cheap HDMI converter( card only had mini display ports,fits in a small system with only ocie slot power needed, only downside is the fan sounds like a jet engine. Wear headset while playing games!',\n",
       " \"You're not going to be running the latest games at higher settings, but older titles like The Witcher 3, Fallout 4, and GTA V all run great.It's loud though. The fans are extremely whiny.\",\n",
       " \"I wanted a higher end card, but I'm not paying $800 for a card with a $250 MSRP. This went into a 13yr old PC. I needed a DX12 card to take advantage of gamepass. I replaced my Radeon HD 4850 512MB card I bought 12 years ago. Still have the slow DDR2 RAM coupled with a Core 2 Quad q8400 and a standard SSD. Im getting a nearly locked 60fps in games at 1080P medium/high settings. These games choked at 1024x768 on the HD 4850. Thats 2017 and older games. Going to laugh when I try Doom Eternal.\",\n",
       " 'I don\\'t do any gaming, just run three monitors. It took several \"updates\" from VisionTek to get the video stable and even then, one monitor drops offline then comes back. At least it comes back - initially, a hard PC reset was needed.',\n",
       " 'I run 4 monitors off this thing and it’s perfect.  I play older games and this is wonderful. Would buy again and I do recommend this to my friends.',\n",
       " 'I needed a card to run four monitors for our laser tag system.  This was one of very few on the market.  Wish it had more choices on outputs Dino didn’t have to buy adapters for changing from DVI to hdmi and such.  But the graphics card is perfect and very easy to setup. Picture is awesome on all four screens running video on them all at once. No glitches or artifacts.',\n",
       " 'WARNING! Do not pair with Gigabyte B365! You wont get full 4K and yes i already contacted support. Switched up mobo full 4k! 3/5 Stars!',\n",
       " 'Edit: Customer Service swapped my flawed GPU with a new in box video card.It works well, 85fps in Cinebench. But it does have two issues, and they are tenable. The four rear outputs are mislabeled. I have a programs that looks for device default audio on \"Playback Device Digital Audio 1\". I had to put the cable in port 3 to make it do that in the sound properties.The fan on the GPU is erratic. I used Speedfan to work around. On the \"Fan Control Tab\" I made a \"Fan Controller\" and used GPU Fan from ATI Video Card as the \"Controlled Speed\". With my 50MM helper fan controlled by the CPU Temp, the temps stay between 26C and 53C.About one year ago I bought my first USED peripheral from Amazon, a MSi RX560 4GB that still works great. So when I discovered that the New VisionTek RX560 4GB LP I ordered was fulfilled with an open box instead. I didn\\'t panic, because I always have a great experience with Amazon.How an open box got in with the New products, I will never know. The Amazon CS seemed surprised also, that I got an open box. But, she was very kind and ordered a replacement. So I predict happy days ahead.I did extensive trouble shooting prior to contacting Customer Support. And, after trying this GPU in 3 computers (W10 64 and W7 64), I am of the opinion, that this is a lightning strike or OC damaged GPU that was returned to Amazon. I would think it should have been RMA to VisionTek, for repairs.Since my PC had a working Radeon, a R7240 using V19.12.2 Adrenaline driver. I device manager uninstalled GPU driver, installed VGA and shut down. When RX560 card was installed, it booted, found it\\'s driver in the Adrenaline package and rebooted, but halted after the W7 \"Starting Windows\" swoosh disappeared. I used DDA (removed the whole smack) driver uninstaller and tried the V19.12.2, V21.4.1 and V21.5.2. Got same freeze at boot but would reliably boot to W7 desktop in VGA or Safe Mode. In W10, it booted, found the Windows Standard Video Driver, (which looks pretty darn good BTW), but when I ran WUpdate and installed the AMD Driver, it rebooted and froze with a Blue Oops Screen. I was able to get W10 to the Desktop only in Safe Mode or VGA mode. I was certain by then, I had received my very first DOA GPU.I read that some users feel the 50mm fan is insufficient. Some even modded the stock fan or heatsink. I have tight quarters in my HTPC case, so I added a 50mm that blows on the heatsink to help cooling.',\n",
       " \"I wanted to set up three monitors for Flight Simulator, so I purchased this in August 2020. It has worked spectacularly well! My MSFS runs at the ultra high settings without a hitch or hesitation. The installation was a breeze, and I have not had to tweak settings to get the performance I wanted.I gave it 5 stars, but really can't comment about tech support, because I have not needed any.My new Dell XPS comes next month, and this card is for sure finding a new home in it first thing after initial set up.\",\n",
       " \"Not using this card for gaming so I can't comment. It is running three monitors perfectly however. My only complaint is the fan noise can be quite loud (whining). I had to set the fan speed to 35% max to avoid the whine. Seems to keep the card well within specs heat wise. Other than that the card has met my expectations.\",\n",
       " 'The card itself works great, play 1080p games with a cheap HDMI converter( card only had mini display ports,fits in a small system with only ocie slot power needed, only downside is the fan sounds like a jet engine. Wear headset while playing games!',\n",
       " \"You're not going to be running the latest games at higher settings, but older titles like The Witcher 3, Fallout 4, and GTA V all run great.It's loud though. The fans are extremely whiny.\",\n",
       " \"I wanted a higher end card, but I'm not paying $800 for a card with a $250 MSRP. This went into a 13yr old PC. I needed a DX12 card to take advantage of gamepass. I replaced my Radeon HD 4850 512MB card I bought 12 years ago. Still have the slow DDR2 RAM coupled with a Core 2 Quad q8400 and a standard SSD. Im getting a nearly locked 60fps in games at 1080P medium/high settings. These games choked at 1024x768 on the HD 4850. Thats 2017 and older games. Going to laugh when I try Doom Eternal.\",\n",
       " 'I don\\'t do any gaming, just run three monitors. It took several \"updates\" from VisionTek to get the video stable and even then, one monitor drops offline then comes back. At least it comes back - initially, a hard PC reset was needed.',\n",
       " 'I run 4 monitors off this thing and it’s perfect.  I play older games and this is wonderful. Would buy again and I do recommend this to my friends.',\n",
       " 'I needed a card to run four monitors for our laser tag system.  This was one of very few on the market.  Wish it had more choices on outputs Dino didn’t have to buy adapters for changing from DVI to hdmi and such.  But the graphics card is perfect and very easy to setup. Picture is awesome on all four screens running video on them all at once. No glitches or artifacts.',\n",
       " 'WARNING! Do not pair with Gigabyte B365! You wont get full 4K and yes i already contacted support. Switched up mobo full 4k! 3/5 Stars!',\n",
       " 'Edit: Customer Service swapped my flawed GPU with a new in box video card.It works well, 85fps in Cinebench. But it does have two issues, and they are tenable. The four rear outputs are mislabeled. I have a programs that looks for device default audio on \"Playback Device Digital Audio 1\". I had to put the cable in port 3 to make it do that in the sound properties.The fan on the GPU is erratic. I used Speedfan to work around. On the \"Fan Control Tab\" I made a \"Fan Controller\" and used GPU Fan from ATI Video Card as the \"Controlled Speed\". With my 50MM helper fan controlled by the CPU Temp, the temps stay between 26C and 53C.About one year ago I bought my first USED peripheral from Amazon, a MSi RX560 4GB that still works great. So when I discovered that the New VisionTek RX560 4GB LP I ordered was fulfilled with an open box instead. I didn\\'t panic, because I always have a great experience with Amazon.How an open box got in with the New products, I will never know. The Amazon CS seemed surprised also, that I got an open box. But, she was very kind and ordered a replacement. So I predict happy days ahead.I did extensive trouble shooting prior to contacting Customer Support. And, after trying this GPU in 3 computers (W10 64 and W7 64), I am of the opinion, that this is a lightning strike or OC damaged GPU that was returned to Amazon. I would think it should have been RMA to VisionTek, for repairs.Since my PC had a working Radeon, a R7240 using V19.12.2 Adrenaline driver. I device manager uninstalled GPU driver, installed VGA and shut down. When RX560 card was installed, it booted, found it\\'s driver in the Adrenaline package and rebooted, but halted after the W7 \"Starting Windows\" swoosh disappeared. I used DDA (removed the whole smack) driver uninstaller and tried the V19.12.2, V21.4.1 and V21.5.2. Got same freeze at boot but would reliably boot to W7 desktop in VGA or Safe Mode. In W10, it booted, found the Windows Standard Video Driver, (which looks pretty darn good BTW), but when I ran WUpdate and installed the AMD Driver, it rebooted and froze with a Blue Oops Screen. I was able to get W10 to the Desktop only in Safe Mode or VGA mode. I was certain by then, I had received my very first DOA GPU.I read that some users feel the 50mm fan is insufficient. Some even modded the stock fan or heatsink. I have tight quarters in my HTPC case, so I added a 50mm that blows on the heatsink to help cooling.',\n",
       " \"I wanted to set up three monitors for Flight Simulator, so I purchased this in August 2020. It has worked spectacularly well! My MSFS runs at the ultra high settings without a hitch or hesitation. The installation was a breeze, and I have not had to tweak settings to get the performance I wanted.I gave it 5 stars, but really can't comment about tech support, because I have not needed any.My new Dell XPS comes next month, and this card is for sure finding a new home in it first thing after initial set up.\",\n",
       " \"Not using this card for gaming so I can't comment. It is running three monitors perfectly however. My only complaint is the fan noise can be quite loud (whining). I had to set the fan speed to 35% max to avoid the whine. Seems to keep the card well within specs heat wise. Other than that the card has met my expectations.\",\n",
       " 'The card itself works great, play 1080p games with a cheap HDMI converter( card only had mini display ports,fits in a small system with only ocie slot power needed, only downside is the fan sounds like a jet engine. Wear headset while playing games!',\n",
       " \"You're not going to be running the latest games at higher settings, but older titles like The Witcher 3, Fallout 4, and GTA V all run great.It's loud though. The fans are extremely whiny.\",\n",
       " \"I wanted a higher end card, but I'm not paying $800 for a card with a $250 MSRP. This went into a 13yr old PC. I needed a DX12 card to take advantage of gamepass. I replaced my Radeon HD 4850 512MB card I bought 12 years ago. Still have the slow DDR2 RAM coupled with a Core 2 Quad q8400 and a standard SSD. Im getting a nearly locked 60fps in games at 1080P medium/high settings. These games choked at 1024x768 on the HD 4850. Thats 2017 and older games. Going to laugh when I try Doom Eternal.\",\n",
       " 'I don\\'t do any gaming, just run three monitors. It took several \"updates\" from VisionTek to get the video stable and even then, one monitor drops offline then comes back. At least it comes back - initially, a hard PC reset was needed.',\n",
       " 'I run 4 monitors off this thing and it’s perfect.  I play older games and this is wonderful. Would buy again and I do recommend this to my friends.',\n",
       " 'I needed a card to run four monitors for our laser tag system.  This was one of very few on the market.  Wish it had more choices on outputs Dino didn’t have to buy adapters for changing from DVI to hdmi and such.  But the graphics card is perfect and very easy to setup. Picture is awesome on all four screens running video on them all at once. No glitches or artifacts.',\n",
       " 'WARNING! Do not pair with Gigabyte B365! You wont get full 4K and yes i already contacted support. Switched up mobo full 4k! 3/5 Stars!',\n",
       " 'Edit: Customer Service swapped my flawed GPU with a new in box video card.It works well, 85fps in Cinebench. But it does have two issues, and they are tenable. The four rear outputs are mislabeled. I have a programs that looks for device default audio on \"Playback Device Digital Audio 1\". I had to put the cable in port 3 to make it do that in the sound properties.The fan on the GPU is erratic. I used Speedfan to work around. On the \"Fan Control Tab\" I made a \"Fan Controller\" and used GPU Fan from ATI Video Card as the \"Controlled Speed\". With my 50MM helper fan controlled by the CPU Temp, the temps stay between 26C and 53C.About one year ago I bought my first USED peripheral from Amazon, a MSi RX560 4GB that still works great. So when I discovered that the New VisionTek RX560 4GB LP I ordered was fulfilled with an open box instead. I didn\\'t panic, because I always have a great experience with Amazon.How an open box got in with the New products, I will never know. The Amazon CS seemed surprised also, that I got an open box. But, she was very kind and ordered a replacement. So I predict happy days ahead.I did extensive trouble shooting prior to contacting Customer Support. And, after trying this GPU in 3 computers (W10 64 and W7 64), I am of the opinion, that this is a lightning strike or OC damaged GPU that was returned to Amazon. I would think it should have been RMA to VisionTek, for repairs.Since my PC had a working Radeon, a R7240 using V19.12.2 Adrenaline driver. I device manager uninstalled GPU driver, installed VGA and shut down. When RX560 card was installed, it booted, found it\\'s driver in the Adrenaline package and rebooted, but halted after the W7 \"Starting Windows\" swoosh disappeared. I used DDA (removed the whole smack) driver uninstaller and tried the V19.12.2, V21.4.1 and V21.5.2. Got same freeze at boot but would reliably boot to W7 desktop in VGA or Safe Mode. In W10, it booted, found the Windows Standard Video Driver, (which looks pretty darn good BTW), but when I ran WUpdate and installed the AMD Driver, it rebooted and froze with a Blue Oops Screen. I was able to get W10 to the Desktop only in Safe Mode or VGA mode. I was certain by then, I had received my very first DOA GPU.I read that some users feel the 50mm fan is insufficient. Some even modded the stock fan or heatsink. I have tight quarters in my HTPC case, so I added a 50mm that blows on the heatsink to help cooling.',\n",
       " \"I wanted to set up three monitors for Flight Simulator, so I purchased this in August 2020. It has worked spectacularly well! My MSFS runs at the ultra high settings without a hitch or hesitation. The installation was a breeze, and I have not had to tweak settings to get the performance I wanted.I gave it 5 stars, but really can't comment about tech support, because I have not needed any.My new Dell XPS comes next month, and this card is for sure finding a new home in it first thing after initial set up.\",\n",
       " \"Not using this card for gaming so I can't comment. It is running three monitors perfectly however. My only complaint is the fan noise can be quite loud (whining). I had to set the fan speed to 35% max to avoid the whine. Seems to keep the card well within specs heat wise. Other than that the card has met my expectations.\",\n",
       " 'The card itself works great, play 1080p games with a cheap HDMI converter( card only had mini display ports,fits in a small system with only ocie slot power needed, only downside is the fan sounds like a jet engine. Wear headset while playing games!',\n",
       " \"You're not going to be running the latest games at higher settings, but older titles like The Witcher 3, Fallout 4, and GTA V all run great.It's loud though. The fans are extremely whiny.\",\n",
       " \"I wanted a higher end card, but I'm not paying $800 for a card with a $250 MSRP. This went into a 13yr old PC. I needed a DX12 card to take advantage of gamepass. I replaced my Radeon HD 4850 512MB card I bought 12 years ago. Still have the slow DDR2 RAM coupled with a Core 2 Quad q8400 and a standard SSD. Im getting a nearly locked 60fps in games at 1080P medium/high settings. These games choked at 1024x768 on the HD 4850. Thats 2017 and older games. Going to laugh when I try Doom Eternal.\",\n",
       " 'I don\\'t do any gaming, just run three monitors. It took several \"updates\" from VisionTek to get the video stable and even then, one monitor drops offline then comes back. At least it comes back - initially, a hard PC reset was needed.',\n",
       " 'I run 4 monitors off this thing and it’s perfect.  I play older games and this is wonderful. Would buy again and I do recommend this to my friends.',\n",
       " 'I needed a card to run four monitors for our laser tag system.  This was one of very few on the market.  Wish it had more choices on outputs Dino didn’t have to buy adapters for changing from DVI to hdmi and such.  But the graphics card is perfect and very easy to setup. Picture is awesome on all four screens running video on them all at once. No glitches or artifacts.',\n",
       " 'WARNING! Do not pair with Gigabyte B365! You wont get full 4K and yes i already contacted support. Switched up mobo full 4k! 3/5 Stars!',\n",
       " 'Edit: Customer Service swapped my flawed GPU with a new in box video card.It works well, 85fps in Cinebench. But it does have two issues, and they are tenable. The four rear outputs are mislabeled. I have a programs that looks for device default audio on \"Playback Device Digital Audio 1\". I had to put the cable in port 3 to make it do that in the sound properties.The fan on the GPU is erratic. I used Speedfan to work around. On the \"Fan Control Tab\" I made a \"Fan Controller\" and used GPU Fan from ATI Video Card as the \"Controlled Speed\". With my 50MM helper fan controlled by the CPU Temp, the temps stay between 26C and 53C.About one year ago I bought my first USED peripheral from Amazon, a MSi RX560 4GB that still works great. So when I discovered that the New VisionTek RX560 4GB LP I ordered was fulfilled with an open box instead. I didn\\'t panic, because I always have a great experience with Amazon.How an open box got in with the New products, I will never know. The Amazon CS seemed surprised also, that I got an open box. But, she was very kind and ordered a replacement. So I predict happy days ahead.I did extensive trouble shooting prior to contacting Customer Support. And, after trying this GPU in 3 computers (W10 64 and W7 64), I am of the opinion, that this is a lightning strike or OC damaged GPU that was returned to Amazon. I would think it should have been RMA to VisionTek, for repairs.Since my PC had a working Radeon, a R7240 using V19.12.2 Adrenaline driver. I device manager uninstalled GPU driver, installed VGA and shut down. When RX560 card was installed, it booted, found it\\'s driver in the Adrenaline package and rebooted, but halted after the W7 \"Starting Windows\" swoosh disappeared. I used DDA (removed the whole smack) driver uninstaller and tried the V19.12.2, V21.4.1 and V21.5.2. Got same freeze at boot but would reliably boot to W7 desktop in VGA or Safe Mode. In W10, it booted, found the Windows Standard Video Driver, (which looks pretty darn good BTW), but when I ran WUpdate and installed the AMD Driver, it rebooted and froze with a Blue Oops Screen. I was able to get W10 to the Desktop only in Safe Mode or VGA mode. I was certain by then, I had received my very first DOA GPU.I read that some users feel the 50mm fan is insufficient. Some even modded the stock fan or heatsink. I have tight quarters in my HTPC case, so I added a 50mm that blows on the heatsink to help cooling.',\n",
       " \"I wanted to set up three monitors for Flight Simulator, so I purchased this in August 2020. It has worked spectacularly well! My MSFS runs at the ultra high settings without a hitch or hesitation. The installation was a breeze, and I have not had to tweak settings to get the performance I wanted.I gave it 5 stars, but really can't comment about tech support, because I have not needed any.My new Dell XPS comes next month, and this card is for sure finding a new home in it first thing after initial set up.\",\n",
       " \"Not using this card for gaming so I can't comment. It is running three monitors perfectly however. My only complaint is the fan noise can be quite loud (whining). I had to set the fan speed to 35% max to avoid the whine. Seems to keep the card well within specs heat wise. Other than that the card has met my expectations.\",\n",
       " 'The card itself works great, play 1080p games with a cheap HDMI converter( card only had mini display ports,fits in a small system with only ocie slot power needed, only downside is the fan sounds like a jet engine. Wear headset while playing games!',\n",
       " \"You're not going to be running the latest games at higher settings, but older titles like The Witcher 3, Fallout 4, and GTA V all run great.It's loud though. The fans are extremely whiny.\",\n",
       " \"I wanted a higher end card, but I'm not paying $800 for a card with a $250 MSRP. This went into a 13yr old PC. I needed a DX12 card to take advantage of gamepass. I replaced my Radeon HD 4850 512MB card I bought 12 years ago. Still have the slow DDR2 RAM coupled with a Core 2 Quad q8400 and a standard SSD. Im getting a nearly locked 60fps in games at 1080P medium/high settings. These games choked at 1024x768 on the HD 4850. Thats 2017 and older games. Going to laugh when I try Doom Eternal.\",\n",
       " 'I don\\'t do any gaming, just run three monitors. It took several \"updates\" from VisionTek to get the video stable and even then, one monitor drops offline then comes back. At least it comes back - initially, a hard PC reset was needed.',\n",
       " 'I run 4 monitors off this thing and it’s perfect.  I play older games and this is wonderful. Would buy again and I do recommend this to my friends.',\n",
       " 'I needed a card to run four monitors for our laser tag system.  This was one of very few on the market.  Wish it had more choices on outputs Dino didn’t have to buy adapters for changing from DVI to hdmi and such.  But the graphics card is perfect and very easy to setup. Picture is awesome on all four screens running video on them all at once. No glitches or artifacts.',\n",
       " 'WARNING! Do not pair with Gigabyte B365! You wont get full 4K and yes i already contacted support. Switched up mobo full 4k! 3/5 Stars!',\n",
       " \"After the old R7 was taken from the computer, the installation and commissioning of the RX 560 was very easy.I had downloaded drivers beforehand.I am very satisfied because the games now run smoothly with maximum graphic details.I may still want to note that I don't have the latest games.Unfortunately, I think that the information is at least a 500 W power supply is wrong.In any case, the computer has crashed regularly.Only after a 650 W power supply was installed did everything ran and run to the best satisfaction.\",\n",
       " 'Purchased to assemble a PC on commission of a friend, a medium -fledged PC to do some all included a little occasional video and gaming editing .. equipped with Ryzen 5 1400, 8GB DDR4 2444mHz, Asus Prime A320K, M2SSD 120GB Windows 10, Sagate Barracuda 1000GB Storage.I tested a lot to make me an idea with titles such as Battlefield 3 DX11 and with the Forza di Forza Horizon 3 DX12 I must say that he surprised me!With BF3 A 1080p Ultra Max Setting we are over 60fps fixed in any condition.Strengthened at 1080p everything on medium we are on the 60 stable .. a respectable performance!If equivalent to its competitor 1050ti, perhaps it is slightly lower in gaming but if you plan to use the graphics card I would say that it is preferable to the greater OpenCL support, from the greater performance in mining to the greater 4GB memory very useful to high resolutions in the fieldgraphic.In conclusion, I would say that it is a good card on this price range, consumes and warms little.',\n",
       " 'An RX 560 of 4 GB standard with some Overclock at a very good price, can with practically all current games at 1080p, to higher or 4K resolutions would no longer be so advisable.Among the numerous assemblies, Sapphire is the cheapest brand and does not seem to be of poor quality, if the box came something soulless, without any extra connector.Although there are many rumors about different versions without OC, with 2 GB, with less power and an additional connector, in the tests it behaves as expected in the most powerful version, to take into account that this RX 560 in\"Not trimmed\" version needs a 6 -pin power supply connector, so there are cut versions without additional connector for those who do not have it and with better consumption.In any case, this version does not consume too much, and with respect to its direct competition, the NVIDIA GTX 1050 is a bit more powerful and also a little more expensive, but RX 560 can behave better with Vulkan and Directx 12 games, in additionIn Linux you can use free controllers and thus get their maximum performance for example in the Wine emulator with Gallium Nine for Windows Directx games.',\n",
       " 'I come from a 2GB 7870 and I must tell that the difference can be seen, this card allows me to play any game with ultra-wide resolution, that is 2560x1080p with medium details and even some games with high details, for now I have tested some games withResolution 2560x1080p these are the results: Batman Arkham Knight The \"FPS\" with V-SYNC Active, min 28, Medio 41, instead with V-Sync deactivated the \"FPS\" are min 34, average 42, max 53 (graphic details set automaticallyOn normal) Homefront the Revolution Gli \"FPS\" min 28, Medio 35, (graphic details automatically set up with V-SYNC Active) Serious Sam 3 BFE The \"FPS\" min 53, Medio 70, max 88 Optimalfar Cry automatic graphic settingPrimal The \"FPS\" min 33, Medio 36, max 41, with 60% of the VRAM memory used (graphic details automatically set up high without V-SYNC) so as you can see from the FPS it behaves very well also in ultra-wide resolution, as regards the scheFrom it is built well, the fan starts only after a certain temperature otherwise it remains deactivated, instead when you play for some time the fan turns out to be a little noisy, but nothing excessive. Ultimately I recommend it to everyone, for those who can spend littleBut he wants to play decently to all games. Conferences the 4GB version because almost all recent games use more than 2GB of graphic memory in 1080p.ps.Remember that the card needs a 6 -pin power connector!',\n",
       " \"Certainly in a few years this review will be incomprehensible ... because the times of domestic mining and cryptocurrencies will be finished will be (perhaps) a memory.But for sure we will not forget about this 2017 that, because of the rampant fashion of home mining (look for google if you don't know what it is) has seen the prices of the video cards rang up high reaching 100/200%increases ... andThen this card is welcome which, albeit of a lower quality than the RX 470, 480 and 580 etc ... at least allows ordinary mortals to play in FHD at 60 fps on titles such as GTA V and other AAA ... be careful that needs the'6 pin power supply (does not take enough current from the PCI-E socket)\",\n",
       " \"Installation of problematic drivers, but after a few attempts on the net by installing previous pilots it works very well. I don't understand how Ati does his account to provide pilots who bug on a win 7 pro ... otherwise the card works wellOn the majority of gourmet games, it is also doing well on 4K with settings out of 75% on average\",\n",
       " 'The Radeon RX 560 is ideal for random game and Esports.With triple games not to expect great performance at 1080p, where you will have to compromise with details to maintain a playable frame rate (playable, not high!).Consumption and medium silence (with Idle card the fan is off). The performances are a middle ground between the nvidia 1050 and 1050ti counterparts (depending on the game), therefore the convenience of the RX 560 depends on the difference in price at whichYou can find it.In general above 130 euros I do not consider it a good purchase. I had to return the card after a few weeks because the fan stopped working.Replaced with a RX 570.',\n",
       " 'Great graphics on the cheap. I picked mine up discounted due to a packaging issue from Amazon Warehouse.More powerful than I thought I\\'d be able to afford, good simple board for a first-time build.So far, I\\'ve had good graphical performance out of World of Warships and Rainbow Six Siege on the build, regularly achieving over 60fps on both titles.Will just say - no idea if it\\'s an issue with the device at all or some kind of software limitation on my part, but the GPU will not activate its fan itself. It must be manually set in a third-party programme such as SpeedFan. While SF does have \"automatic fan control\" options, this actually turns the fan off, since it\\'s not getting any sort of signal to activate itself.Just a heads up to keep an eye out for this sort of thing on a new build!',\n",
       " \"I only have the hardware since yesterday but I am already completely convinced of it.I am not necessarily interested in exact performance data, but what matters is the optical output, i.e. working with CAD programs as well as various games.There this card is a very good alternative to power-like NVIDIA products with MM.The Sapphire's (I ordered 2 at the same time) have the nose clearly ahead due to the very good Linux compatibility.If an open tource is important so you shouldn't use the strongly overpriced Nvidia products. Under Linux, I just put the card inserted and without something configured everything worked perfectly.Even the dual monitor operation runs properly, because I bought a similar card at the same time and have had 100% identical experiences there I will also enter this evaluation there.\",\n",
       " \"After the old R7 was taken from the computer, the installation and commissioning of the RX 560 was very easy.I had downloaded drivers beforehand.I am very satisfied because the games now run smoothly with maximum graphic details.I may still want to note that I don't have the latest games.Unfortunately, I think that the information is at least a 500 W power supply is wrong.In any case, the computer has crashed regularly.Only after a 650 W power supply was installed did everything ran and run to the best satisfaction.\",\n",
       " 'Purchased to assemble a PC on commission of a friend, a medium -fledged PC to do some all included a little occasional video and gaming editing .. equipped with Ryzen 5 1400, 8GB DDR4 2444mHz, Asus Prime A320K, M2SSD 120GB Windows 10, Sagate Barracuda 1000GB Storage.I tested a lot to make me an idea with titles such as Battlefield 3 DX11 and with the Forza di Forza Horizon 3 DX12 I must say that he surprised me!With BF3 A 1080p Ultra Max Setting we are over 60fps fixed in any condition.Strengthened at 1080p everything on medium we are on the 60 stable .. a respectable performance!If equivalent to its competitor 1050ti, perhaps it is slightly lower in gaming but if you plan to use the graphics card I would say that it is preferable to the greater OpenCL support, from the greater performance in mining to the greater 4GB memory very useful to high resolutions in the fieldgraphic.In conclusion, I would say that it is a good card on this price range, consumes and warms little.',\n",
       " 'An RX 560 of 4 GB standard with some Overclock at a very good price, can with practically all current games at 1080p, to higher or 4K resolutions would no longer be so advisable.Among the numerous assemblies, Sapphire is the cheapest brand and does not seem to be of poor quality, if the box came something soulless, without any extra connector.Although there are many rumors about different versions without OC, with 2 GB, with less power and an additional connector, in the tests it behaves as expected in the most powerful version, to take into account that this RX 560 in\"Not trimmed\" version needs a 6 -pin power supply connector, so there are cut versions without additional connector for those who do not have it and with better consumption.In any case, this version does not consume too much, and with respect to its direct competition, the NVIDIA GTX 1050 is a bit more powerful and also a little more expensive, but RX 560 can behave better with Vulkan and Directx 12 games, in additionIn Linux you can use free controllers and thus get their maximum performance for example in the Wine emulator with Gallium Nine for Windows Directx games.',\n",
       " 'I come from a 2GB 7870 and I must tell that the difference can be seen, this card allows me to play any game with ultra-wide resolution, that is 2560x1080p with medium details and even some games with high details, for now I have tested some games withResolution 2560x1080p these are the results: Batman Arkham Knight The \"FPS\" with V-SYNC Active, min 28, Medio 41, instead with V-Sync deactivated the \"FPS\" are min 34, average 42, max 53 (graphic details set automaticallyOn normal) Homefront the Revolution Gli \"FPS\" min 28, Medio 35, (graphic details automatically set up with V-SYNC Active) Serious Sam 3 BFE The \"FPS\" min 53, Medio 70, max 88 Optimalfar Cry automatic graphic settingPrimal The \"FPS\" min 33, Medio 36, max 41, with 60% of the VRAM memory used (graphic details automatically set up high without V-SYNC) so as you can see from the FPS it behaves very well also in ultra-wide resolution, as regards the scheFrom it is built well, the fan starts only after a certain temperature otherwise it remains deactivated, instead when you play for some time the fan turns out to be a little noisy, but nothing excessive. Ultimately I recommend it to everyone, for those who can spend littleBut he wants to play decently to all games. Conferences the 4GB version because almost all recent games use more than 2GB of graphic memory in 1080p.ps.Remember that the card needs a 6 -pin power connector!',\n",
       " \"Certainly in a few years this review will be incomprehensible ... because the times of domestic mining and cryptocurrencies will be finished will be (perhaps) a memory.But for sure we will not forget about this 2017 that, because of the rampant fashion of home mining (look for google if you don't know what it is) has seen the prices of the video cards rang up high reaching 100/200%increases ... andThen this card is welcome which, albeit of a lower quality than the RX 470, 480 and 580 etc ... at least allows ordinary mortals to play in FHD at 60 fps on titles such as GTA V and other AAA ... be careful that needs the'6 pin power supply (does not take enough current from the PCI-E socket)\",\n",
       " \"Installation of problematic drivers, but after a few attempts on the net by installing previous pilots it works very well. I don't understand how Ati does his account to provide pilots who bug on a win 7 pro ... otherwise the card works wellOn the majority of gourmet games, it is also doing well on 4K with settings out of 75% on average\",\n",
       " 'The Radeon RX 560 is ideal for random game and Esports.With triple games not to expect great performance at 1080p, where you will have to compromise with details to maintain a playable frame rate (playable, not high!).Consumption and medium silence (with Idle card the fan is off). The performances are a middle ground between the nvidia 1050 and 1050ti counterparts (depending on the game), therefore the convenience of the RX 560 depends on the difference in price at whichYou can find it.In general above 130 euros I do not consider it a good purchase. I had to return the card after a few weeks because the fan stopped working.Replaced with a RX 570.',\n",
       " 'Great graphics on the cheap. I picked mine up discounted due to a packaging issue from Amazon Warehouse.More powerful than I thought I\\'d be able to afford, good simple board for a first-time build.So far, I\\'ve had good graphical performance out of World of Warships and Rainbow Six Siege on the build, regularly achieving over 60fps on both titles.Will just say - no idea if it\\'s an issue with the device at all or some kind of software limitation on my part, but the GPU will not activate its fan itself. It must be manually set in a third-party programme such as SpeedFan. While SF does have \"automatic fan control\" options, this actually turns the fan off, since it\\'s not getting any sort of signal to activate itself.Just a heads up to keep an eye out for this sort of thing on a new build!',\n",
       " \"I only have the hardware since yesterday but I am already completely convinced of it.I am not necessarily interested in exact performance data, but what matters is the optical output, i.e. working with CAD programs as well as various games.There this card is a very good alternative to power-like NVIDIA products with MM.The Sapphire's (I ordered 2 at the same time) have the nose clearly ahead due to the very good Linux compatibility.If an open tource is important so you shouldn't use the strongly overpriced Nvidia products. Under Linux, I just put the card inserted and without something configured everything worked perfectly.Even the dual monitor operation runs properly, because I bought a similar card at the same time and have had 100% identical experiences there I will also enter this evaluation there.\",\n",
       " \"After the old R7 was taken from the computer, the installation and commissioning of the RX 560 was very easy.I had downloaded drivers beforehand.I am very satisfied because the games now run smoothly with maximum graphic details.I may still want to note that I don't have the latest games.Unfortunately, I think that the information is at least a 500 W power supply is wrong.In any case, the computer has crashed regularly.Only after a 650 W power supply was installed did everything ran and run to the best satisfaction.\",\n",
       " 'Purchased to assemble a PC on commission of a friend, a medium -fledged PC to do some all included a little occasional video and gaming editing .. equipped with Ryzen 5 1400, 8GB DDR4 2444mHz, Asus Prime A320K, M2SSD 120GB Windows 10, Sagate Barracuda 1000GB Storage.I tested a lot to make me an idea with titles such as Battlefield 3 DX11 and with the Forza di Forza Horizon 3 DX12 I must say that he surprised me!With BF3 A 1080p Ultra Max Setting we are over 60fps fixed in any condition.Strengthened at 1080p everything on medium we are on the 60 stable .. a respectable performance!If equivalent to its competitor 1050ti, perhaps it is slightly lower in gaming but if you plan to use the graphics card I would say that it is preferable to the greater OpenCL support, from the greater performance in mining to the greater 4GB memory very useful to high resolutions in the fieldgraphic.In conclusion, I would say that it is a good card on this price range, consumes and warms little.',\n",
       " 'An RX 560 of 4 GB standard with some Overclock at a very good price, can with practically all current games at 1080p, to higher or 4K resolutions would no longer be so advisable.Among the numerous assemblies, Sapphire is the cheapest brand and does not seem to be of poor quality, if the box came something soulless, without any extra connector.Although there are many rumors about different versions without OC, with 2 GB, with less power and an additional connector, in the tests it behaves as expected in the most powerful version, to take into account that this RX 560 in\"Not trimmed\" version needs a 6 -pin power supply connector, so there are cut versions without additional connector for those who do not have it and with better consumption.In any case, this version does not consume too much, and with respect to its direct competition, the NVIDIA GTX 1050 is a bit more powerful and also a little more expensive, but RX 560 can behave better with Vulkan and Directx 12 games, in additionIn Linux you can use free controllers and thus get their maximum performance for example in the Wine emulator with Gallium Nine for Windows Directx games.',\n",
       " 'I come from a 2GB 7870 and I must tell that the difference can be seen, this card allows me to play any game with ultra-wide resolution, that is 2560x1080p with medium details and even some games with high details, for now I have tested some games withResolution 2560x1080p these are the results: Batman Arkham Knight The \"FPS\" with V-SYNC Active, min 28, Medio 41, instead with V-Sync deactivated the \"FPS\" are min 34, average 42, max 53 (graphic details set automaticallyOn normal) Homefront the Revolution Gli \"FPS\" min 28, Medio 35, (graphic details automatically set up with V-SYNC Active) Serious Sam 3 BFE The \"FPS\" min 53, Medio 70, max 88 Optimalfar Cry automatic graphic settingPrimal The \"FPS\" min 33, Medio 36, max 41, with 60% of the VRAM memory used (graphic details automatically set up high without V-SYNC) so as you can see from the FPS it behaves very well also in ultra-wide resolution, as regards the scheFrom it is built well, the fan starts only after a certain temperature otherwise it remains deactivated, instead when you play for some time the fan turns out to be a little noisy, but nothing excessive. Ultimately I recommend it to everyone, for those who can spend littleBut he wants to play decently to all games. Conferences the 4GB version because almost all recent games use more than 2GB of graphic memory in 1080p.ps.Remember that the card needs a 6 -pin power connector!',\n",
       " \"Certainly in a few years this review will be incomprehensible ... because the times of domestic mining and cryptocurrencies will be finished will be (perhaps) a memory.But for sure we will not forget about this 2017 that, because of the rampant fashion of home mining (look for google if you don't know what it is) has seen the prices of the video cards rang up high reaching 100/200%increases ... andThen this card is welcome which, albeit of a lower quality than the RX 470, 480 and 580 etc ... at least allows ordinary mortals to play in FHD at 60 fps on titles such as GTA V and other AAA ... be careful that needs the'6 pin power supply (does not take enough current from the PCI-E socket)\",\n",
       " \"Installation of problematic drivers, but after a few attempts on the net by installing previous pilots it works very well. I don't understand how Ati does his account to provide pilots who bug on a win 7 pro ... otherwise the card works wellOn the majority of gourmet games, it is also doing well on 4K with settings out of 75% on average\",\n",
       " 'The Radeon RX 560 is ideal for random game and Esports.With triple games not to expect great performance at 1080p, where you will have to compromise with details to maintain a playable frame rate (playable, not high!).Consumption and medium silence (with Idle card the fan is off). The performances are a middle ground between the nvidia 1050 and 1050ti counterparts (depending on the game), therefore the convenience of the RX 560 depends on the difference in price at whichYou can find it.In general above 130 euros I do not consider it a good purchase. I had to return the card after a few weeks because the fan stopped working.Replaced with a RX 570.',\n",
       " 'Great graphics on the cheap. I picked mine up discounted due to a packaging issue from Amazon Warehouse.More powerful than I thought I\\'d be able to afford, good simple board for a first-time build.So far, I\\'ve had good graphical performance out of World of Warships and Rainbow Six Siege on the build, regularly achieving over 60fps on both titles.Will just say - no idea if it\\'s an issue with the device at all or some kind of software limitation on my part, but the GPU will not activate its fan itself. It must be manually set in a third-party programme such as SpeedFan. While SF does have \"automatic fan control\" options, this actually turns the fan off, since it\\'s not getting any sort of signal to activate itself.Just a heads up to keep an eye out for this sort of thing on a new build!',\n",
       " \"I only have the hardware since yesterday but I am already completely convinced of it.I am not necessarily interested in exact performance data, but what matters is the optical output, i.e. working with CAD programs as well as various games.There this card is a very good alternative to power-like NVIDIA products with MM.The Sapphire's (I ordered 2 at the same time) have the nose clearly ahead due to the very good Linux compatibility.If an open tource is important so you shouldn't use the strongly overpriced Nvidia products. Under Linux, I just put the card inserted and without something configured everything worked perfectly.Even the dual monitor operation runs properly, because I bought a similar card at the same time and have had 100% identical experiences there I will also enter this evaluation there.\"]"
      ]
     },
     "execution_count": 390,
     "metadata": {},
     "output_type": "execute_result"
    }
   ],
   "source": [
    "coments_translate"
   ]
  },
  {
   "cell_type": "code",
   "execution_count": null,
   "metadata": {},
   "outputs": [
    {
     "name": "stdout",
     "output_type": "stream",
     "text": [
      "3/3 [==============================] - 0s 1ms/step\n"
     ]
    }
   ],
   "source": [
    "c = tfidf_vect.transform(coments_translate).toarray()\n",
    "predict = (classifier.predict(c) > 0.5).astype(int)"
   ]
  },
  {
   "cell_type": "code",
   "execution_count": null,
   "metadata": {},
   "outputs": [],
   "source": [
    "cont_pos = 0\n",
    "cont_neg = 0\n",
    "for p in predict:\n",
    "    if p == 1:\n",
    "        cont_pos += 1\n",
    "    else:\n",
    "        cont_neg += 1"
   ]
  },
  {
   "cell_type": "code",
   "execution_count": null,
   "metadata": {},
   "outputs": [
    {
     "name": "stdout",
     "output_type": "stream",
     "text": [
      "Positivos: 72 | Negativos: 5\n"
     ]
    }
   ],
   "source": [
    "print(f'Positivos: {cont_pos} | Negativos: {cont_neg}')"
   ]
  }
 ],
 "metadata": {
  "kernelspec": {
   "display_name": "Python 3.10.1 64-bit",
   "language": "python",
   "name": "python3"
  },
  "language_info": {
   "codemirror_mode": {
    "name": "ipython",
    "version": 3
   },
   "file_extension": ".py",
   "mimetype": "text/x-python",
   "name": "python",
   "nbconvert_exporter": "python",
   "pygments_lexer": "ipython3",
   "version": "3.10.1"
  },
  "orig_nbformat": 4,
  "vscode": {
   "interpreter": {
    "hash": "369f2c481f4da34e4445cda3fffd2e751bd1c4d706f27375911949ba6bb62e1c"
   }
  }
 },
 "nbformat": 4,
 "nbformat_minor": 2
}
